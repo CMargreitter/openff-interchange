{
 "cells": [
  {
   "cell_type": "code",
   "execution_count": 1,
   "id": "60e904e5-3ebd-4d30-b83b-4ffe32dbdfd8",
   "metadata": {},
   "outputs": [
    {
     "data": {
      "application/vnd.jupyter.widget-view+json": {
       "model_id": "286f888081c546c3b06372590e292dca",
       "version_major": 2,
       "version_minor": 0
      },
      "text/plain": []
     },
     "metadata": {},
     "output_type": "display_data"
    }
   ],
   "source": [
    "import urllib\n",
    "\n",
    "import mdtraj as md\n",
    "import nglview\n",
    "import numpy as np\n",
    "from openff.toolkit.topology import Molecule, Topology\n",
    "from openff.toolkit.typing.engines.smirnoff import ForceField\n",
    "from openff.units import unit\n",
    "from openff.units.openmm import to_openmm\n",
    "from openmm import app\n",
    "from openmm import unit as openmm_unit\n",
    "\n",
    "from openff.interchange.components.interchange import Interchange\n",
    "from openff.interchange.drivers import get_amber_energies, get_openmm_energies\n",
    "from openff.interchange.drivers.all import get_summary_data"
   ]
  },
  {
   "cell_type": "code",
   "execution_count": 2,
   "id": "44e7e94d-3a4c-40fd-a87d-befb5905043c",
   "metadata": {
    "tags": []
   },
   "outputs": [],
   "source": [
    "class _Molecule(Molecule):\n",
    "    @classmethod\n",
    "    def from_pdb(self, file_path):\n",
    "        molecule = Molecule.from_pdb(file_path)\n",
    "        molecule._add_default_hierarchy_schemes()\n",
    "        molecule.perceive_hierarchy()\n",
    "        return molecule\n",
    "\n",
    "\n",
    "class _Topology(Topology):\n",
    "    from openmm import app\n",
    "\n",
    "    @property\n",
    "    def positions(self):\n",
    "        return np.vstack([mol.conformers[0] for mol in self.molecules])\n",
    "\n",
    "    def to_file(self, filename, positions):\n",
    "        with open(filename, \"w\") as f:\n",
    "            app.PDBFile.writeFile(\n",
    "                self.to_openmm(ensure_unique_atom_names=False),\n",
    "                positions,\n",
    "                f,\n",
    "            )\n",
    "\n",
    "\n",
    "def get_packed_coordinates(structure: str, n_waters: int):\n",
    "    from openff.evaluator import unit as evaluator_unit\n",
    "    from openff.evaluator.utils.packmol import pack_box\n",
    "\n",
    "    water = Molecule.from_smiles(\"O\")\n",
    "    water.generate_conformers(n_conformers=1)\n",
    "\n",
    "    trj = md.load(structure)\n",
    "\n",
    "    if trj.unitcell_lengths:\n",
    "        box_size = 1.2 * trj.unitcell_lengths\n",
    "    else:\n",
    "        box_size = 1.2 * (np.max(trj.xyz, axis=1) - np.min(trj.xyz, axis=1))[0]\n",
    "\n",
    "    packed_trj, _ = pack_box(\n",
    "        molecules=[water],\n",
    "        number_of_copies=[n_waters],\n",
    "        structure_to_solvate=structure,\n",
    "        box_size=box_size * evaluator_unit.nanometer,\n",
    "        # mass_density=0.8 * evaluator_unit.Unit(\"g/cm**3\"),\n",
    "    )\n",
    "\n",
    "    return packed_trj.xyz[0]"
   ]
  },
  {
   "cell_type": "markdown",
   "id": "e7affbb5-350b-4c28-a111-3d85495e273c",
   "metadata": {},
   "source": [
    "This example uses sample data from [Protein Ligand Benchmark](https://github.com/openforcefield/protein-ligand-benchmark#proteinligandbenchmarks) data set curated by the Open Force Field Initiative. Specifially, [MCL1](https://github.com/openforcefield/protein-ligand-benchmark/tree/8c94c0dcc892dfd77992567294b1ff31c62e8695/plbenchmark/sample_data/2020-08-26_mcl1_sample) data is used. Conveniently for the purposes of this example, the ligand is already docked and the protein is relatively small (~2000 atoms). Follow the links for details or to swap out ligand(s)."
   ]
  },
  {
   "cell_type": "code",
   "execution_count": 3,
   "id": "ba0e3b4b-e4db-4a22-befa-ec783860d60e",
   "metadata": {},
   "outputs": [
    {
     "name": "stdout",
     "output_type": "stream",
     "text": [
      "total 15672\r\n",
      "-rw-r--r--  1 mwt  staff   2.8K Nov  4 09:51 prepare.py\r\n",
      "-rw-r--r--  1 mwt  staff    27K Nov  4 12:23 env.txt\r\n",
      "-rw-r--r--  1 mwt  staff    89K Dec 14 11:40 out.inpcrd\r\n",
      "-rw-r--r--  1 mwt  staff   3.1M Dec 14 11:43 out.prmtop\r\n",
      "-rw-r--r--  1 mwt  staff   146K Dec 14 11:44 out.gro\r\n",
      "-rw-r--r--  1 mwt  staff   1.9M Dec 14 11:51 out.top\r\n",
      "-rw-r--r--  1 mwt  staff   8.4K Dec 14 11:56 out.lmp\r\n",
      "-rw-r--r--  1 mwt  staff   417B Dec 14 11:56 tmp.in\r\n",
      "-rw-r--r--  1 mwt  staff   3.7K Dec 14 11:56 log.lammps\r\n",
      "-rw-r--r--  1 mwt  staff   152B Dec 14 12:02 README.md\r\n",
      "-rw-r--r--  1 mwt  staff   192K Dec 14 12:04 sliced.pdb\r\n",
      "-rw-r--r--  1 mwt  staff   248K Dec 14 12:05 docked.pdb\r\n",
      "-rw-r--r--  1 mwt  staff   248K Dec 14 12:05 out.pdb\r\n",
      "-rw-r--r--  1 mwt  staff   252K Dec 14 12:05 packed.pdb\r\n",
      "-rw-r--r--  1 mwt  staff    25K Dec 14 12:18 protein_ligand.ipynb\r\n",
      "-rw-r--r--  1 mwt  staff   193K Dec 14 12:20 protein.pdb\r\n",
      "-rw-r--r--  1 mwt  staff   4.0K Dec 14 12:20 lig_23.sdf\r\n"
     ]
    }
   ],
   "source": [
    "url = (\n",
    "    \"https://raw.githubusercontent.com/openforcefield/protein-ligand-benchmark/\"\n",
    "    \"8c94c0dcc892dfd77992567294b1ff31c62e8695/plbenchmark/sample_data/2020-08-26_mcl1_sample/\"\n",
    ")\n",
    "\n",
    "urllib.request.urlretrieve(url + \"/01_protein/crd/protein.pdb\", \"protein.pdb\")\n",
    "urllib.request.urlretrieve(url + \"02_ligands/lig_23/crd/lig_23.sdf\", \"lig_23.sdf\")\n",
    "\n",
    "# These two files (`protein.pdb` and `lig_23.sdf`) should be in the local path now\n",
    "!ls -lhrt"
   ]
  },
  {
   "cell_type": "markdown",
   "id": "89e97383-755b-4caa-bdd2-ad3a358bac61",
   "metadata": {},
   "source": [
    "The PDB file includes a few waters; the OpenFF Toolkit currently does not explicitly support parsing multi-component PDB files, so we'll use [MDTraj](https://mdtraj.org/) to parse the protein and save it to a new file."
   ]
  },
  {
   "cell_type": "code",
   "execution_count": 4,
   "id": "c2a648b2-93ae-42b2-acce-5bef5d073cd8",
   "metadata": {},
   "outputs": [],
   "source": [
    "protein_with_waters = md.load(\"protein.pdb\")\n",
    "protein_pdb = protein_with_waters.atom_slice(\n",
    "    protein_with_waters.top.select(\"chainid 0\")\n",
    ")\n",
    "protein_pdb.save(\"sliced.pdb\")"
   ]
  },
  {
   "cell_type": "markdown",
   "id": "d0985a9c-3ac7-4555-9332-edd3c8585c03",
   "metadata": {},
   "source": [
    "Now, we can use the OpenFF Toolkit to load the protein and ligand from PDB and SDF files, respectively"
   ]
  },
  {
   "cell_type": "code",
   "execution_count": 5,
   "id": "b002a345-23d3-4061-9f06-bdc0d8dac40c",
   "metadata": {},
   "outputs": [],
   "source": [
    "%%capture\n",
    "protein = _Molecule.from_pdb(\"sliced.pdb\")\n",
    "ligand = _Molecule.from_file(\"lig_23.sdf\")"
   ]
  },
  {
   "cell_type": "markdown",
   "id": "73489c6c-4046-452e-8848-e4d28d2e0732",
   "metadata": {},
   "source": [
    "From these `Molecule` objects, we can make a `Topology` object and write it out to a PDB file for visualization"
   ]
  },
  {
   "cell_type": "code",
   "execution_count": 6,
   "id": "2e107968-ca23-4979-9910-773203c355dd",
   "metadata": {
    "tags": []
   },
   "outputs": [],
   "source": [
    "docked_topology = _Topology.from_molecules([protein, ligand])\n",
    "docked_topology.to_file(\n",
    "    filename=\"docked.pdb\", positions=to_openmm(docked_topology.positions)\n",
    ")"
   ]
  },
  {
   "cell_type": "code",
   "execution_count": 7,
   "id": "5c1fa8a6-109b-47b1-ae49-85ce5a28ea35",
   "metadata": {},
   "outputs": [],
   "source": [
    "from openmm import app\n",
    "\n",
    "with open(\"out.pdb\", \"w\") as f:\n",
    "    app.PDBFile.writeFile(\n",
    "        docked_topology.to_openmm(ensure_unique_atom_names=False),\n",
    "        to_openmm(docked_topology.positions),\n",
    "        f,\n",
    "    )"
   ]
  },
  {
   "cell_type": "code",
   "execution_count": 8,
   "id": "e03cdd71-291a-4f67-9584-ad5738ad7175",
   "metadata": {},
   "outputs": [
    {
     "data": {
      "application/vnd.jupyter.widget-view+json": {
       "model_id": "1d8e3e83ac7b4233a6b08bd36fbaa437",
       "version_major": 2,
       "version_minor": 0
      },
      "text/plain": [
       "NGLWidget()"
      ]
     },
     "metadata": {},
     "output_type": "display_data"
    }
   ],
   "source": [
    "w = nglview.show_mdtraj(md.load(\"docked.pdb\"))\n",
    "w.add_representation(\n",
    "    \"spacefill\",\n",
    "    selection=[*range(protein.n_atoms, docked_topology.n_atoms)],\n",
    "    color=\"green\",\n",
    ")\n",
    "w"
   ]
  },
  {
   "cell_type": "code",
   "execution_count": 9,
   "id": "48e0b8f0-2181-4554-b71b-a8b117ce75e4",
   "metadata": {},
   "outputs": [
    {
     "data": {
      "application/vnd.jupyter.widget-view+json": {
       "model_id": "9c92227b1e534627ab6a546192a90231",
       "version_major": 2,
       "version_minor": 0
      },
      "text/plain": [
       "Image(value=b'', width='99%')"
      ]
     },
     "metadata": {},
     "output_type": "display_data"
    }
   ],
   "source": [
    "w.render_image()"
   ]
  },
  {
   "cell_type": "markdown",
   "id": "c83d9073-e8bc-4f46-9527-be04e32b5d3e",
   "metadata": {},
   "source": [
    "Next, let's add an arbitrary number of waters to the system and visualize the result. The density here will be wrong; use your imagination to act like the right number of waters were added."
   ]
  },
  {
   "cell_type": "code",
   "execution_count": 10,
   "id": "52ecff74-e4f5-48f0-bc6a-b82c46113936",
   "metadata": {},
   "outputs": [],
   "source": [
    "water = Molecule.from_smiles(\"O\")\n",
    "water.generate_conformers(n_conformers=1)\n",
    "n_waters = 10\n",
    "\n",
    "packed_coordinates = get_packed_coordinates(\"docked.pdb\", n_waters)\n",
    "\n",
    "final_topology = _Topology.from_molecules([protein, ligand, *n_waters * [water]])\n",
    "final_topology.to_file(\n",
    "    filename=\"packed.pdb\",\n",
    "    positions=packed_coordinates * openmm_unit.nanometer,\n",
    ")"
   ]
  },
  {
   "cell_type": "code",
   "execution_count": 11,
   "id": "e62cf3c8-a246-4be9-a0e5-283d9e9c129b",
   "metadata": {},
   "outputs": [
    {
     "data": {
      "application/vnd.jupyter.widget-view+json": {
       "model_id": "570c51a3332a4145aa34e8eefe3fe896",
       "version_major": 2,
       "version_minor": 0
      },
      "text/plain": [
       "NGLWidget()"
      ]
     },
     "metadata": {},
     "output_type": "display_data"
    }
   ],
   "source": [
    "w = nglview.show_mdtraj(md.load(\"packed.pdb\"))\n",
    "w.add_representation(\n",
    "    \"spacefill\",\n",
    "    selection=[*range(protein.n_atoms, docked_topology.n_atoms)],\n",
    "    color=\"green\",\n",
    ")\n",
    "w"
   ]
  },
  {
   "cell_type": "code",
   "execution_count": 12,
   "id": "6bff458d-8be9-412c-b49b-e141de773c28",
   "metadata": {},
   "outputs": [
    {
     "data": {
      "application/vnd.jupyter.widget-view+json": {
       "model_id": "3f7fc89f8b02494997aca1eec9c09ce0",
       "version_major": 2,
       "version_minor": 0
      },
      "text/plain": [
       "Image(value=b'', width='99%')"
      ]
     },
     "metadata": {},
     "output_type": "display_data"
    }
   ],
   "source": [
    "w.render_image()"
   ]
  },
  {
   "cell_type": "markdown",
   "id": "3bf5210a-ba5e-434f-bd57-c0635c04ffba",
   "metadata": {},
   "source": [
    "Now that we've prepared the topology of the system, we can apply force fields and generate inputs for simulation engines. Here, we'll use [OpenFF 2.0.0 \"Sage\"](https://openforcefield.org/community/news/general/sage2.0.0-release/) as a small molecule force field for the ligand and [OpenFF's port of Amber's ff14SB](https://github.com/openforcefield/amber-ff-porting/releases/tag/0.0.1) for the protein. Sage happens to include TIP3P parameters which we'll use for the waters. Because of some bugs/performance issues, we have to remote the improper torsions from the protein force field and constraints from both force fields for now."
   ]
  },
  {
   "cell_type": "code",
   "execution_count": 13,
   "id": "9f171d13-64b0-4219-bd21-dddce2c8373e",
   "metadata": {},
   "outputs": [],
   "source": [
    "ff14sb = ForceField(\"ff14sb_off_impropers_0.0.1.offxml\")\n",
    "ff14sb.deregister_parameter_handler(\"ImproperTorsions\")\n",
    "\n",
    "sage = ForceField(\"openff_unconstrained-2.0.0.offxml\")"
   ]
  },
  {
   "cell_type": "markdown",
   "id": "a449b036-993f-409f-a090-93ba4e016d55",
   "metadata": {},
   "source": [
    "For now, OpenFF's force field lines are not unified; in the future a self-consistent force field can describe both biopolymers and small molecules in one pass. But until then, we need to apply each force field to their respective components, generating an `Interchange` object for each, and then combine them using the `+` operator. This operatator uses custom code that attempts to handle combining the chemical topologies, physical forces, and positions; it's not haphazardly squishing the object together. (In this example, we're setting the positions on each topology before adding them together and then overwriting those positions later using the packed results. This is to get around a bug that  has not been fixed yet.) However, this is still a sharp edge and likely to produce strange behavior - please do not use it in production work!"
   ]
  },
  {
   "cell_type": "code",
   "execution_count": 14,
   "id": "8f795c76-3b30-4bf8-9bae-5c3b7db5bab4",
   "metadata": {
    "scrolled": true,
    "tags": []
   },
   "outputs": [
    {
     "name": "stdout",
     "output_type": "stream",
     "text": [
      "Starting handler: Bonds...\n",
      "Finished handler: ... Bonds. Took 84.25584316253662\n",
      "Starting handler: Angles...\n",
      "Finished handler: ... Angles. Took 26.679287910461426\n",
      "Starting handler: ProperTorsions...\n",
      "Finished handler: ... ProperTorsions. Took 63.410080671310425\n",
      "Starting handler: vdW...\n",
      "Finished handler: ... vdW. Took 11.582987070083618\n",
      "Starting handler: Electrostatics...\n",
      "Finished handler: ... Electrostatics. Took 69.26661705970764\n"
     ]
    }
   ],
   "source": [
    "protein_interchange = Interchange.from_smirnoff(ff14sb, protein.to_topology())"
   ]
  },
  {
   "cell_type": "code",
   "execution_count": 15,
   "id": "476610d2-7523-45f6-839d-2d95b84371b6",
   "metadata": {},
   "outputs": [
    {
     "name": "stdout",
     "output_type": "stream",
     "text": [
      "Starting handler: Bonds...\n",
      "Finished handler: ... Bonds. Took 16.13409686088562\n",
      "Starting handler: Constraints...\n",
      "Finished handler: ... Constraints. Took 0.029407978057861328\n",
      "Starting handler: Angles...\n",
      "Finished handler: ... Angles. Took 0.023086071014404297\n",
      "Starting handler: ProperTorsions...\n",
      "Finished handler: ... ProperTorsions. Took 0.09538388252258301\n",
      "Starting handler: ImproperTorsions...\n",
      "Finished handler: ... ImproperTorsions. Took 0.019976139068603516\n",
      "Starting handler: vdW...\n",
      "Finished handler: ... vdW. Took 0.019855976104736328\n",
      "Starting handler: Electrostatics...\n",
      "Finished handler: ... Electrostatics. Took 5.431825160980225\n"
     ]
    }
   ],
   "source": [
    "sage_interchange = Interchange.from_smirnoff(\n",
    "    sage, _Topology.from_molecules([ligand, *n_waters * [water]])\n",
    ")"
   ]
  },
  {
   "cell_type": "markdown",
   "id": "74dcde62-0879-4aab-a5ea-56bd5f139d3d",
   "metadata": {},
   "source": [
    "Since we have already prepared the positions of the final system, which contains all components, we won't track positions in the intermediate `Interchange` objects and instead just use the setter on the final object. This will produce a warning (`Setting positions to None ...`) but that's fine."
   ]
  },
  {
   "cell_type": "code",
   "execution_count": 16,
   "id": "061b537e-3d69-41d9-b64c-5cd2510bee2b",
   "metadata": {},
   "outputs": [
    {
     "name": "stderr",
     "output_type": "stream",
     "text": [
      "/Users/mwt/software/openff-system/openff/interchange/components/interchange.py:590: UserWarning: Iterchange object combination is experimental and likely to produce strange results. Use with caution!\n",
      "  warnings.warn(\n",
      "/Users/mwt/software/openff-system/openff/interchange/components/interchange.py:634: UserWarning: Setting positions to None because one or both objects added together were missing positions.\n",
      "  warnings.warn(\n"
     ]
    }
   ],
   "source": [
    "combined_interchange = protein_interchange + sage_interchange\n",
    "combined_interchange.positions = packed_coordinates * unit.nanometer\n",
    "combined_interchange.box = [10, 10, 10]  # Arbitrary"
   ]
  },
  {
   "cell_type": "markdown",
   "id": "60ba1dc4-3c2f-489d-9765-58dc29841590",
   "metadata": {},
   "source": [
    "Now that we've prepared all atomic positions, applied each force field, and combined the results, we can visualize the result to verify that at least the positions and topology are not mangled:"
   ]
  },
  {
   "cell_type": "code",
   "execution_count": 17,
   "id": "dbf57feb-d8c7-4250-9161-eefba48cd3fb",
   "metadata": {},
   "outputs": [
    {
     "data": {
      "application/vnd.jupyter.widget-view+json": {
       "model_id": "740f2126d7ec4edd873473cc9d4c01e8",
       "version_major": 2,
       "version_minor": 0
      },
      "text/plain": [
       "NGLWidget()"
      ]
     },
     "metadata": {},
     "output_type": "display_data"
    }
   ],
   "source": [
    "combined_interchange.to_pdb(file_path=\"out.pdb\")\n",
    "\n",
    "w = nglview.show_mdtraj(md.load(\"out.pdb\"))\n",
    "w.add_representation(\n",
    "    \"spacefill\",\n",
    "    selection=[*range(protein.n_atoms, docked_topology.n_atoms)],\n",
    "    color=\"green\",\n",
    ")\n",
    "w"
   ]
  },
  {
   "cell_type": "code",
   "execution_count": 18,
   "id": "79761e0c-2368-4af0-871a-de472860338d",
   "metadata": {},
   "outputs": [
    {
     "data": {
      "application/vnd.jupyter.widget-view+json": {
       "model_id": "f4f89e857aff4cd59dc32aaa888d51b7",
       "version_major": 2,
       "version_minor": 0
      },
      "text/plain": [
       "Image(value=b'', width='99%')"
      ]
     },
     "metadata": {},
     "output_type": "display_data"
    }
   ],
   "source": [
    "w.render_image()"
   ]
  },
  {
   "cell_type": "markdown",
   "id": "0eee4f28-8f07-441e-ac35-4af9bb1eae7d",
   "metadata": {},
   "source": [
    "Finally, we can export the final `Interchange` object to models understood by various simulation engines."
   ]
  },
  {
   "cell_type": "code",
   "execution_count": 19,
   "id": "1363ddf7-2e88-40e2-8b69-a6ccf0c36836",
   "metadata": {},
   "outputs": [
    {
     "name": "stdout",
     "output_type": "stream",
     "text": [
      "<class 'openmm.openmm.System'> <class 'openmm.app.topology.Topology'>\n"
     ]
    }
   ],
   "source": [
    "openmm_system = combined_interchange.to_openmm()\n",
    "openmm_topology = combined_interchange.topology.to_openmm(\n",
    "    ensure_unique_atom_names=False\n",
    ")\n",
    "print(type(openmm_system), type(openmm_topology))"
   ]
  },
  {
   "cell_type": "code",
   "execution_count": 20,
   "id": "6498f1be-868a-487e-a9d4-487fedf144f3",
   "metadata": {},
   "outputs": [],
   "source": [
    "combined_interchange.to_inpcrd(\"out.inpcrd\")\n",
    "combined_interchange.to_prmtop(\"out.prmtop\")"
   ]
  },
  {
   "cell_type": "code",
   "execution_count": 21,
   "id": "8c4fdfa9-f3c6-4aa4-8284-f25c87887fe2",
   "metadata": {},
   "outputs": [],
   "source": [
    "combined_interchange.to_gro(\"out.gro\")\n",
    "combined_interchange.to_top(\"out.top\")"
   ]
  },
  {
   "cell_type": "code",
   "execution_count": 22,
   "id": "da2f2068-aa59-4c4d-a4b3-4315ab18a6fa",
   "metadata": {},
   "outputs": [],
   "source": [
    "combined_interchange.to_lammps(\"out.lmp\")"
   ]
  },
  {
   "cell_type": "markdown",
   "id": "1908d5db-020a-4d9e-9e11-2db0a806e1e2",
   "metadata": {},
   "source": [
    "In order to verify the accuracy of each export, we can use functions in the `drivers` module to call out to each engine to evaluate single-point energies. Under the hood, each function uses the export functions just as we did in the above cells. "
   ]
  },
  {
   "cell_type": "code",
   "execution_count": 23,
   "id": "4f8d824c-3b62-4927-b7fa-7f80fd6e3a25",
   "metadata": {},
   "outputs": [
    {
     "name": "stdout",
     "output_type": "stream",
     "text": [
      "Energies:\n",
      "\n",
      "Bond:          \t\t11255.97265625 kJ / mol\n",
      "Angle:         \t\t2014.271728515625 kJ / mol\n",
      "Torsion:       \t\t7740.4345703125 kJ / mol\n",
      "Nonbonded:     \t\tNone\n",
      "vdW:           \t\t5087110.615406884 kJ / mol\n",
      "Electrostatics:\t\t-20860.969709779718 kJ / mol\n",
      "\n",
      "Energies:\n",
      "\n",
      "Bond:          \t\t2690.2478 kcal / mol\n",
      "Angle:         \t\t481.4223 kcal / mol\n",
      "Torsion:       \t\t1850.0083 kcal / mol\n",
      "Nonbonded:     \t\tNone\n",
      "vdW:           \t\t5087106.1646808 kJ / mol\n",
      "Electrostatics:\t\t-21899.511219200005 kJ / mol\n",
      "\n"
     ]
    }
   ],
   "source": [
    "print(get_openmm_energies(combined_interchange))\n",
    "print(get_amber_energies(combined_interchange))"
   ]
  },
  {
   "cell_type": "markdown",
   "id": "4d1ef819-5bdf-4a15-bc15-9c513ef1c91d",
   "metadata": {},
   "source": [
    "Note that some of these functions are not yet performant for systems of this size, so we are only evaluating the OpenMM and Amber interfaces. In the future, GROMACS and LAMMPS exports can be included above, and the function `get_summary_data` can be called on it. As a sneak peek, below is the result of calling that function on an `Interchange` that contains only the ligand. The data is presented as a Pandas DataFrame, which incldues convenient methods for summary statistics."
   ]
  },
  {
   "cell_type": "code",
   "execution_count": 24,
   "id": "c0a2aa09-5b2c-4848-ba5e-c8ab4dfb569b",
   "metadata": {},
   "outputs": [
    {
     "name": "stdout",
     "output_type": "stream",
     "text": [
      "Starting handler: Bonds...\n",
      "Finished handler: ... Bonds. Took 1.058825969696045\n",
      "Starting handler: Constraints...\n",
      "Finished handler: ... Constraints. Took 0.023998260498046875\n",
      "Starting handler: Angles...\n",
      "Finished handler: ... Angles. Took 0.02159905433654785\n",
      "Starting handler: ProperTorsions...\n",
      "Finished handler: ... ProperTorsions. Took 0.07000279426574707\n",
      "Starting handler: ImproperTorsions...\n",
      "Finished handler: ... ImproperTorsions. Took 0.01609206199645996\n",
      "Starting handler: vdW...\n",
      "Finished handler: ... vdW. Took 0.015219926834106445\n",
      "Starting handler: Electrostatics...\n",
      "Finished handler: ... Electrostatics. Took 5.6294121742248535\n"
     ]
    }
   ],
   "source": [
    "ligand_interchange = Interchange.from_smirnoff(sage, ligand.to_topology())\n",
    "ligand_interchange.positions = ligand.conformers[0]\n",
    "ligand_interchange.box = [10, 10, 10]"
   ]
  },
  {
   "cell_type": "code",
   "execution_count": 25,
   "id": "dda54dd5-30c2-4378-9456-5c10ef746232",
   "metadata": {},
   "outputs": [
    {
     "data": {
      "text/html": [
       "<div>\n",
       "<style scoped>\n",
       "    .dataframe tbody tr th:only-of-type {\n",
       "        vertical-align: middle;\n",
       "    }\n",
       "\n",
       "    .dataframe tbody tr th {\n",
       "        vertical-align: top;\n",
       "    }\n",
       "\n",
       "    .dataframe thead th {\n",
       "        text-align: right;\n",
       "    }\n",
       "</style>\n",
       "<table border=\"1\" class=\"dataframe\">\n",
       "  <thead>\n",
       "    <tr style=\"text-align: right;\">\n",
       "      <th></th>\n",
       "      <th>Bond</th>\n",
       "      <th>Angle</th>\n",
       "      <th>Torsion</th>\n",
       "      <th>vdW</th>\n",
       "      <th>Electrostatics</th>\n",
       "    </tr>\n",
       "  </thead>\n",
       "  <tbody>\n",
       "    <tr>\n",
       "      <th>OpenMM</th>\n",
       "      <td>25.839909</td>\n",
       "      <td>356.517242</td>\n",
       "      <td>27.319803</td>\n",
       "      <td>105.038192</td>\n",
       "      <td>21.036047</td>\n",
       "    </tr>\n",
       "    <tr>\n",
       "      <th>GROMACS</th>\n",
       "      <td>25.839901</td>\n",
       "      <td>356.516205</td>\n",
       "      <td>27.314379</td>\n",
       "      <td>105.040617</td>\n",
       "      <td>20.850615</td>\n",
       "    </tr>\n",
       "    <tr>\n",
       "      <th>LAMMPS</th>\n",
       "      <td>25.838186</td>\n",
       "      <td>356.516318</td>\n",
       "      <td>27.330620</td>\n",
       "      <td>104.971429</td>\n",
       "      <td>21.153593</td>\n",
       "    </tr>\n",
       "    <tr>\n",
       "      <th>Amber</th>\n",
       "      <td>25.837874</td>\n",
       "      <td>356.516548</td>\n",
       "      <td>27.319846</td>\n",
       "      <td>104.978234</td>\n",
       "      <td>21.009956</td>\n",
       "    </tr>\n",
       "  </tbody>\n",
       "</table>\n",
       "</div>"
      ],
      "text/plain": [
       "              Bond       Angle    Torsion         vdW  Electrostatics\n",
       "OpenMM   25.839909  356.517242  27.319803  105.038192       21.036047\n",
       "GROMACS  25.839901  356.516205  27.314379  105.040617       20.850615\n",
       "LAMMPS   25.838186  356.516318  27.330620  104.971429       21.153593\n",
       "Amber    25.837874  356.516548  27.319846  104.978234       21.009956"
      ]
     },
     "execution_count": 25,
     "metadata": {},
     "output_type": "execute_result"
    }
   ],
   "source": [
    "summary = get_summary_data(ligand_interchange)\n",
    "summary"
   ]
  },
  {
   "cell_type": "code",
   "execution_count": 26,
   "id": "bdd674bc-bb6a-45e6-a3ce-68a02b7da5c8",
   "metadata": {},
   "outputs": [
    {
     "data": {
      "text/html": [
       "<div>\n",
       "<style scoped>\n",
       "    .dataframe tbody tr th:only-of-type {\n",
       "        vertical-align: middle;\n",
       "    }\n",
       "\n",
       "    .dataframe tbody tr th {\n",
       "        vertical-align: top;\n",
       "    }\n",
       "\n",
       "    .dataframe thead th {\n",
       "        text-align: right;\n",
       "    }\n",
       "</style>\n",
       "<table border=\"1\" class=\"dataframe\">\n",
       "  <thead>\n",
       "    <tr style=\"text-align: right;\">\n",
       "      <th></th>\n",
       "      <th>Bond</th>\n",
       "      <th>Angle</th>\n",
       "      <th>Torsion</th>\n",
       "      <th>vdW</th>\n",
       "      <th>Electrostatics</th>\n",
       "    </tr>\n",
       "  </thead>\n",
       "  <tbody>\n",
       "    <tr>\n",
       "      <th>count</th>\n",
       "      <td>4.000000</td>\n",
       "      <td>4.000000</td>\n",
       "      <td>4.000000</td>\n",
       "      <td>4.000000</td>\n",
       "      <td>4.000000</td>\n",
       "    </tr>\n",
       "    <tr>\n",
       "      <th>mean</th>\n",
       "      <td>25.838967</td>\n",
       "      <td>356.516578</td>\n",
       "      <td>27.321162</td>\n",
       "      <td>105.007118</td>\n",
       "      <td>21.012553</td>\n",
       "    </tr>\n",
       "    <tr>\n",
       "      <th>std</th>\n",
       "      <td>0.001090</td>\n",
       "      <td>0.000465</td>\n",
       "      <td>0.006808</td>\n",
       "      <td>0.037398</td>\n",
       "      <td>0.124733</td>\n",
       "    </tr>\n",
       "    <tr>\n",
       "      <th>min</th>\n",
       "      <td>25.837874</td>\n",
       "      <td>356.516205</td>\n",
       "      <td>27.314379</td>\n",
       "      <td>104.971429</td>\n",
       "      <td>20.850615</td>\n",
       "    </tr>\n",
       "    <tr>\n",
       "      <th>25%</th>\n",
       "      <td>25.838108</td>\n",
       "      <td>356.516290</td>\n",
       "      <td>27.318447</td>\n",
       "      <td>104.976533</td>\n",
       "      <td>20.970121</td>\n",
       "    </tr>\n",
       "    <tr>\n",
       "      <th>50%</th>\n",
       "      <td>25.839043</td>\n",
       "      <td>356.516433</td>\n",
       "      <td>27.319825</td>\n",
       "      <td>105.008213</td>\n",
       "      <td>21.023001</td>\n",
       "    </tr>\n",
       "    <tr>\n",
       "      <th>75%</th>\n",
       "      <td>25.839903</td>\n",
       "      <td>356.516722</td>\n",
       "      <td>27.322540</td>\n",
       "      <td>105.038798</td>\n",
       "      <td>21.065433</td>\n",
       "    </tr>\n",
       "    <tr>\n",
       "      <th>max</th>\n",
       "      <td>25.839909</td>\n",
       "      <td>356.517242</td>\n",
       "      <td>27.330620</td>\n",
       "      <td>105.040617</td>\n",
       "      <td>21.153593</td>\n",
       "    </tr>\n",
       "  </tbody>\n",
       "</table>\n",
       "</div>"
      ],
      "text/plain": [
       "            Bond       Angle    Torsion         vdW  Electrostatics\n",
       "count   4.000000    4.000000   4.000000    4.000000        4.000000\n",
       "mean   25.838967  356.516578  27.321162  105.007118       21.012553\n",
       "std     0.001090    0.000465   0.006808    0.037398        0.124733\n",
       "min    25.837874  356.516205  27.314379  104.971429       20.850615\n",
       "25%    25.838108  356.516290  27.318447  104.976533       20.970121\n",
       "50%    25.839043  356.516433  27.319825  105.008213       21.023001\n",
       "75%    25.839903  356.516722  27.322540  105.038798       21.065433\n",
       "max    25.839909  356.517242  27.330620  105.040617       21.153593"
      ]
     },
     "execution_count": 26,
     "metadata": {},
     "output_type": "execute_result"
    }
   ],
   "source": [
    "summary.describe()"
   ]
  }
 ],
 "metadata": {
  "kernelspec": {
   "display_name": "Python 3 (ipykernel)",
   "language": "python",
   "name": "python3"
  },
  "language_info": {
   "codemirror_mode": {
    "name": "ipython",
    "version": 3
   },
   "file_extension": ".py",
   "mimetype": "text/x-python",
   "name": "python",
   "nbconvert_exporter": "python",
   "pygments_lexer": "ipython3",
   "version": "3.9.7"
  }
 },
 "nbformat": 4,
 "nbformat_minor": 5
}
