{
 "cells": [
  {
   "cell_type": "code",
   "execution_count": 2,
   "metadata": {},
   "outputs": [
    {
     "name": "stderr",
     "output_type": "stream",
     "text": [
      "Warning: Unable to load toolkit 'OpenEye Toolkit'. The Open Force Field Toolkit does not require the OpenEye Toolkits, and can use RDKit/AmberTools instead. However, if you have a valid license for the OpenEye Toolkits, consider installing them for faster performance and additional file format support: https://docs.eyesopen.com/toolkits/python/quickstart-python/linuxosx.html OpenEye offers free Toolkit licenses for academics: https://www.eyesopen.com/academic-licensing\n"
     ]
    }
   ],
   "source": [
    "import pandas as pd\n",
    "from simtk import unit as simtk_unit\n",
    "from openff.toolkit.topology import Molecule, Topology\n",
    "from openff.units import unit\n",
    "\n",
    "from openff.system.stubs import ForceField\n",
    "from openff.system.tests.energy_tests.openmm import (\n",
    "    get_openmm_energies,\n",
    "    _get_openmm_energies,\n",
    ")\n",
    "from openff.system.tests.energy_tests.gromacs import get_gromacs_energies"
   ]
  },
  {
   "cell_type": "code",
   "execution_count": 3,
   "metadata": {},
   "outputs": [],
   "source": [
    "SMILES = \"c1n(CCO)c(C(F)(F)(F))cc1CNCCl\""
   ]
  },
  {
   "cell_type": "code",
   "execution_count": 4,
   "metadata": {},
   "outputs": [],
   "source": [
    "molecule = Molecule.from_smiles(SMILES)\n",
    "molecule.generate_conformers(n_conformers=20, rms_cutoff=0.1 * simtk_unit.angstrom)\n",
    "topology = molecule.to_topology()"
   ]
  },
  {
   "cell_type": "code",
   "execution_count": 5,
   "metadata": {},
   "outputs": [],
   "source": [
    "parsley = ForceField(\"openff-1.1.0.offxml\")"
   ]
  },
  {
   "cell_type": "code",
   "execution_count": 6,
   "metadata": {},
   "outputs": [],
   "source": [
    "openff_sys = parsley.create_openff_system(topology)\n",
    "openmm_sys = parsley.create_openmm_system(topology)"
   ]
  },
  {
   "cell_type": "code",
   "execution_count": 7,
   "metadata": {},
   "outputs": [],
   "source": [
    "openff_sys.positions = molecule.conformers[0]\n",
    "openff_sys.box = [4, 4, 4]"
   ]
  },
  {
   "cell_type": "code",
   "execution_count": 9,
   "metadata": {},
   "outputs": [],
   "source": [
    "df = pd.DataFrame()\n",
    "\n",
    "kj_mol = unit.kilojoule / unit.mol\n",
    "\n",
    "for idx, conformer in enumerate(molecule.conformers):\n",
    "    openff_sys.positions = conformer\n",
    "\n",
    "    toolkit = sum(\n",
    "        _get_openmm_energies(\n",
    "            omm_sys=openmm_sys,\n",
    "            box_vectors=openff_sys.box,\n",
    "            positions=openff_sys.positions,\n",
    "        ).energies.values()\n",
    "    ).m_as(kj_mol)\n",
    "\n",
    "    omm = sum(get_openmm_energies(openff_sys).energies.values()).m_as(kj_mol)\n",
    "\n",
    "    gmx = sum(get_gromacs_energies(openff_sys).energies.values()).m_as(kj_mol)\n",
    "\n",
    "    df = df.append(\n",
    "        pd.DataFrame.from_dict(\n",
    "            {\n",
    "                \"Conformer No.\": [idx],\n",
    "                \"Toolkit (kJ/mol)\": [round(toolkit, 3)],\n",
    "                \"System -> OpenMM (kJ/mol)\": [round(omm, 3)],\n",
    "                \"System -> GROMACS\": [round(gmx, 3)],\n",
    "            }\n",
    "        ),\n",
    "        ignore_index=True,\n",
    "    )"
   ]
  },
  {
   "cell_type": "code",
   "execution_count": 10,
   "metadata": {},
   "outputs": [
    {
     "data": {
      "text/html": [
       "<style  type=\"text/css\" >\n",
       "</style><table id=\"T_407d7_\" ><thead>    <tr>        <th class=\"col_heading level0 col0\" >Conformer No.</th>        <th class=\"col_heading level0 col1\" >Toolkit (kJ/mol)</th>        <th class=\"col_heading level0 col2\" >System -> OpenMM (kJ/mol)</th>        <th class=\"col_heading level0 col3\" >System -> GROMACS</th>    </tr></thead><tbody>\n",
       "                <tr>\n",
       "                                <td id=\"T_407d7_row0_col0\" class=\"data row0 col0\" >0</td>\n",
       "                        <td id=\"T_407d7_row0_col1\" class=\"data row0 col1\" >333.472000</td>\n",
       "                        <td id=\"T_407d7_row0_col2\" class=\"data row0 col2\" >333.446000</td>\n",
       "                        <td id=\"T_407d7_row0_col3\" class=\"data row0 col3\" >335.346000</td>\n",
       "            </tr>\n",
       "            <tr>\n",
       "                                <td id=\"T_407d7_row1_col0\" class=\"data row1 col0\" >1</td>\n",
       "                        <td id=\"T_407d7_row1_col1\" class=\"data row1 col1\" >393.354000</td>\n",
       "                        <td id=\"T_407d7_row1_col2\" class=\"data row1 col2\" >393.332000</td>\n",
       "                        <td id=\"T_407d7_row1_col3\" class=\"data row1 col3\" >384.924000</td>\n",
       "            </tr>\n",
       "            <tr>\n",
       "                                <td id=\"T_407d7_row2_col0\" class=\"data row2 col0\" >2</td>\n",
       "                        <td id=\"T_407d7_row2_col1\" class=\"data row2 col1\" >323.614000</td>\n",
       "                        <td id=\"T_407d7_row2_col2\" class=\"data row2 col2\" >323.600000</td>\n",
       "                        <td id=\"T_407d7_row2_col3\" class=\"data row2 col3\" >332.331000</td>\n",
       "            </tr>\n",
       "            <tr>\n",
       "                                <td id=\"T_407d7_row3_col0\" class=\"data row3 col0\" >3</td>\n",
       "                        <td id=\"T_407d7_row3_col1\" class=\"data row3 col1\" >385.330000</td>\n",
       "                        <td id=\"T_407d7_row3_col2\" class=\"data row3 col2\" >385.269000</td>\n",
       "                        <td id=\"T_407d7_row3_col3\" class=\"data row3 col3\" >376.187000</td>\n",
       "            </tr>\n",
       "            <tr>\n",
       "                                <td id=\"T_407d7_row4_col0\" class=\"data row4 col0\" >4</td>\n",
       "                        <td id=\"T_407d7_row4_col1\" class=\"data row4 col1\" >333.148000</td>\n",
       "                        <td id=\"T_407d7_row4_col2\" class=\"data row4 col2\" >333.127000</td>\n",
       "                        <td id=\"T_407d7_row4_col3\" class=\"data row4 col3\" >342.992000</td>\n",
       "            </tr>\n",
       "            <tr>\n",
       "                                <td id=\"T_407d7_row5_col0\" class=\"data row5 col0\" >5</td>\n",
       "                        <td id=\"T_407d7_row5_col1\" class=\"data row5 col1\" >350.489000</td>\n",
       "                        <td id=\"T_407d7_row5_col2\" class=\"data row5 col2\" >350.463000</td>\n",
       "                        <td id=\"T_407d7_row5_col3\" class=\"data row5 col3\" >357.233000</td>\n",
       "            </tr>\n",
       "            <tr>\n",
       "                                <td id=\"T_407d7_row6_col0\" class=\"data row6 col0\" >6</td>\n",
       "                        <td id=\"T_407d7_row6_col1\" class=\"data row6 col1\" >454.499000</td>\n",
       "                        <td id=\"T_407d7_row6_col2\" class=\"data row6 col2\" >454.460000</td>\n",
       "                        <td id=\"T_407d7_row6_col3\" class=\"data row6 col3\" >460.799000</td>\n",
       "            </tr>\n",
       "            <tr>\n",
       "                                <td id=\"T_407d7_row7_col0\" class=\"data row7 col0\" >7</td>\n",
       "                        <td id=\"T_407d7_row7_col1\" class=\"data row7 col1\" >336.369000</td>\n",
       "                        <td id=\"T_407d7_row7_col2\" class=\"data row7 col2\" >336.337000</td>\n",
       "                        <td id=\"T_407d7_row7_col3\" class=\"data row7 col3\" >337.335000</td>\n",
       "            </tr>\n",
       "            <tr>\n",
       "                                <td id=\"T_407d7_row8_col0\" class=\"data row8 col0\" >8</td>\n",
       "                        <td id=\"T_407d7_row8_col1\" class=\"data row8 col1\" >413.470000</td>\n",
       "                        <td id=\"T_407d7_row8_col2\" class=\"data row8 col2\" >413.453000</td>\n",
       "                        <td id=\"T_407d7_row8_col3\" class=\"data row8 col3\" >407.706000</td>\n",
       "            </tr>\n",
       "            <tr>\n",
       "                                <td id=\"T_407d7_row9_col0\" class=\"data row9 col0\" >9</td>\n",
       "                        <td id=\"T_407d7_row9_col1\" class=\"data row9 col1\" >394.129000</td>\n",
       "                        <td id=\"T_407d7_row9_col2\" class=\"data row9 col2\" >394.073000</td>\n",
       "                        <td id=\"T_407d7_row9_col3\" class=\"data row9 col3\" >385.648000</td>\n",
       "            </tr>\n",
       "            <tr>\n",
       "                                <td id=\"T_407d7_row10_col0\" class=\"data row10 col0\" >10</td>\n",
       "                        <td id=\"T_407d7_row10_col1\" class=\"data row10 col1\" >382.319000</td>\n",
       "                        <td id=\"T_407d7_row10_col2\" class=\"data row10 col2\" >382.292000</td>\n",
       "                        <td id=\"T_407d7_row10_col3\" class=\"data row10 col3\" >390.056000</td>\n",
       "            </tr>\n",
       "            <tr>\n",
       "                                <td id=\"T_407d7_row11_col0\" class=\"data row11 col0\" >11</td>\n",
       "                        <td id=\"T_407d7_row11_col1\" class=\"data row11 col1\" >421.354000</td>\n",
       "                        <td id=\"T_407d7_row11_col2\" class=\"data row11 col2\" >421.288000</td>\n",
       "                        <td id=\"T_407d7_row11_col3\" class=\"data row11 col3\" >418.040000</td>\n",
       "            </tr>\n",
       "            <tr>\n",
       "                                <td id=\"T_407d7_row12_col0\" class=\"data row12 col0\" >12</td>\n",
       "                        <td id=\"T_407d7_row12_col1\" class=\"data row12 col1\" >362.044000</td>\n",
       "                        <td id=\"T_407d7_row12_col2\" class=\"data row12 col2\" >361.980000</td>\n",
       "                        <td id=\"T_407d7_row12_col3\" class=\"data row12 col3\" >367.158000</td>\n",
       "            </tr>\n",
       "            <tr>\n",
       "                                <td id=\"T_407d7_row13_col0\" class=\"data row13 col0\" >13</td>\n",
       "                        <td id=\"T_407d7_row13_col1\" class=\"data row13 col1\" >375.029000</td>\n",
       "                        <td id=\"T_407d7_row13_col2\" class=\"data row13 col2\" >375.011000</td>\n",
       "                        <td id=\"T_407d7_row13_col3\" class=\"data row13 col3\" >386.156000</td>\n",
       "            </tr>\n",
       "            <tr>\n",
       "                                <td id=\"T_407d7_row14_col0\" class=\"data row14 col0\" >14</td>\n",
       "                        <td id=\"T_407d7_row14_col1\" class=\"data row14 col1\" >371.377000</td>\n",
       "                        <td id=\"T_407d7_row14_col2\" class=\"data row14 col2\" >371.321000</td>\n",
       "                        <td id=\"T_407d7_row14_col3\" class=\"data row14 col3\" >379.361000</td>\n",
       "            </tr>\n",
       "            <tr>\n",
       "                                <td id=\"T_407d7_row15_col0\" class=\"data row15 col0\" >15</td>\n",
       "                        <td id=\"T_407d7_row15_col1\" class=\"data row15 col1\" >447.210000</td>\n",
       "                        <td id=\"T_407d7_row15_col2\" class=\"data row15 col2\" >447.148000</td>\n",
       "                        <td id=\"T_407d7_row15_col3\" class=\"data row15 col3\" >436.459000</td>\n",
       "            </tr>\n",
       "            <tr>\n",
       "                                <td id=\"T_407d7_row16_col0\" class=\"data row16 col0\" >16</td>\n",
       "                        <td id=\"T_407d7_row16_col1\" class=\"data row16 col1\" >414.684000</td>\n",
       "                        <td id=\"T_407d7_row16_col2\" class=\"data row16 col2\" >414.634000</td>\n",
       "                        <td id=\"T_407d7_row16_col3\" class=\"data row16 col3\" >412.520000</td>\n",
       "            </tr>\n",
       "            <tr>\n",
       "                                <td id=\"T_407d7_row17_col0\" class=\"data row17 col0\" >17</td>\n",
       "                        <td id=\"T_407d7_row17_col1\" class=\"data row17 col1\" >448.970000</td>\n",
       "                        <td id=\"T_407d7_row17_col2\" class=\"data row17 col2\" >448.950000</td>\n",
       "                        <td id=\"T_407d7_row17_col3\" class=\"data row17 col3\" >438.090000</td>\n",
       "            </tr>\n",
       "            <tr>\n",
       "                                <td id=\"T_407d7_row18_col0\" class=\"data row18 col0\" >18</td>\n",
       "                        <td id=\"T_407d7_row18_col1\" class=\"data row18 col1\" >373.347000</td>\n",
       "                        <td id=\"T_407d7_row18_col2\" class=\"data row18 col2\" >373.316000</td>\n",
       "                        <td id=\"T_407d7_row18_col3\" class=\"data row18 col3\" >378.559000</td>\n",
       "            </tr>\n",
       "            <tr>\n",
       "                                <td id=\"T_407d7_row19_col0\" class=\"data row19 col0\" >19</td>\n",
       "                        <td id=\"T_407d7_row19_col1\" class=\"data row19 col1\" >399.074000</td>\n",
       "                        <td id=\"T_407d7_row19_col2\" class=\"data row19 col2\" >398.991000</td>\n",
       "                        <td id=\"T_407d7_row19_col3\" class=\"data row19 col3\" >406.289000</td>\n",
       "            </tr>\n",
       "    </tbody></table>"
      ],
      "text/plain": [
       "<pandas.io.formats.style.Styler at 0x14db79670>"
      ]
     },
     "execution_count": 10,
     "metadata": {},
     "output_type": "execute_result"
    }
   ],
   "source": [
    "df.style.hide_index()"
   ]
  }
 ],
 "metadata": {
  "kernelspec": {
   "display_name": "Python 3",
   "language": "python",
   "name": "python3"
  },
  "language_info": {
   "codemirror_mode": {
    "name": "ipython",
    "version": 3
   },
   "file_extension": ".py",
   "mimetype": "text/x-python",
   "name": "python",
   "nbconvert_exporter": "python",
   "pygments_lexer": "ipython3",
   "version": "3.9.2"
  }
 },
 "nbformat": 4,
 "nbformat_minor": 4
}
