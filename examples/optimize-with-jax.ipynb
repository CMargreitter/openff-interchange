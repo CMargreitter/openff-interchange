{
 "cells": [
  {
   "cell_type": "code",
   "execution_count": 1,
   "metadata": {},
   "outputs": [
    {
     "data": {
      "application/vnd.jupyter.widget-view+json": {
       "model_id": "cccef7f42e17495487d3e7443add1719",
       "version_major": 2,
       "version_minor": 0
      },
      "text/plain": []
     },
     "metadata": {},
     "output_type": "display_data"
    }
   ],
   "source": [
    "import numpy as np\n",
    "import jax\n",
    "import jax.numpy as jnp\n",
    "import matplotlib.pyplot as plt\n",
    "\n",
    "from openforcefield.topology import Molecule, Topology\n",
    "\n",
    "from openff.system.stubs import ForceField"
   ]
  },
  {
   "cell_type": "code",
   "execution_count": 2,
   "metadata": {},
   "outputs": [],
   "source": [
    "# Construct a single-molecule system from toolkit classes\n",
    "mol = Molecule.from_smiles('CCO')\n",
    "mol.generate_conformers(n_conformers=1)\n",
    "top = Topology.from_molecules([mol])\n",
    "parsley = ForceField('openff-1.0.0.offxml')\n",
    "mysys = parsley.create_openff_system(topology=top)\n",
    "bonds = mysys.handlers['Bonds']"
   ]
  },
  {
   "cell_type": "code",
   "execution_count": 3,
   "metadata": {},
   "outputs": [
    {
     "name": "stderr",
     "output_type": "stream",
     "text": [
      "WARNING:absl:No GPU/TPU found, falling back to CPU. (Set TF_CPP_MIN_LOG_LEVEL=0 and rerun for more info.)\n"
     ]
    }
   ],
   "source": [
    "# Transform parameters into matrix representations\n",
    "p = bonds.get_force_field_parameters()\n",
    "mapping = bonds.get_mapping()\n",
    "q = bonds.get_system_parameters()\n",
    "m = bonds.get_param_matrix()"
   ]
  },
  {
   "cell_type": "code",
   "execution_count": 4,
   "metadata": {},
   "outputs": [
    {
     "data": {
      "text/plain": [
       "DeviceArray([[5.3113739e+02, 1.5203758e+00],\n",
       "             [7.5809320e+02, 1.0928884e+00],\n",
       "             [6.6914154e+02, 1.4142879e+00],\n",
       "             [1.1205833e+03, 9.7076875e-01]], dtype=float32)"
      ]
     },
     "execution_count": 4,
     "metadata": {},
     "output_type": "execute_result"
    }
   ],
   "source": [
    "# force field parameters, each row is something like [k (kcal/mol/A), length (A)]\n",
    "p"
   ]
  },
  {
   "cell_type": "code",
   "execution_count": 5,
   "metadata": {},
   "outputs": [
    {
     "data": {
      "text/plain": [
       "DeviceArray([[5.3113739e+02, 1.5203758e+00],\n",
       "             [7.5809320e+02, 1.0928884e+00],\n",
       "             [7.5809320e+02, 1.0928884e+00],\n",
       "             [7.5809320e+02, 1.0928884e+00],\n",
       "             [6.6914154e+02, 1.4142879e+00],\n",
       "             [7.5809320e+02, 1.0928884e+00],\n",
       "             [7.5809320e+02, 1.0928884e+00],\n",
       "             [1.1205833e+03, 9.7076875e-01]], dtype=float32)"
      ]
     },
     "execution_count": 5,
     "metadata": {},
     "output_type": "execute_result"
    }
   ],
   "source": [
    "# system parameters, a.k.a. force field parameters as they exist in a parametrized system\n",
    "q"
   ]
  },
  {
   "cell_type": "code",
   "execution_count": 6,
   "metadata": {},
   "outputs": [
    {
     "data": {
      "text/plain": [
       "DeviceArray([[1., 0., 0., 0., 0., 0., 0., 0.],\n",
       "             [0., 1., 0., 0., 0., 0., 0., 0.],\n",
       "             [0., 0., 1., 0., 0., 0., 0., 0.],\n",
       "             [0., 0., 0., 1., 0., 0., 0., 0.],\n",
       "             [0., 0., 1., 0., 0., 0., 0., 0.],\n",
       "             [0., 0., 0., 1., 0., 0., 0., 0.],\n",
       "             [0., 0., 1., 0., 0., 0., 0., 0.],\n",
       "             [0., 0., 0., 1., 0., 0., 0., 0.],\n",
       "             [0., 0., 0., 0., 1., 0., 0., 0.],\n",
       "             [0., 0., 0., 0., 0., 1., 0., 0.],\n",
       "             [0., 0., 1., 0., 0., 0., 0., 0.],\n",
       "             [0., 0., 0., 1., 0., 0., 0., 0.],\n",
       "             [0., 0., 1., 0., 0., 0., 0., 0.],\n",
       "             [0., 0., 0., 1., 0., 0., 0., 0.],\n",
       "             [0., 0., 0., 0., 0., 0., 1., 0.],\n",
       "             [0., 0., 0., 0., 0., 0., 0., 1.]], dtype=float32)"
      ]
     },
     "execution_count": 6,
     "metadata": {},
     "output_type": "execute_result"
    }
   ],
   "source": [
    "# m is the parametrization matrix, which can be dotted with p to get out q\n",
    "assert np.allclose(m.dot(p.flatten()).reshape((-1, 2)), q)\n",
    "\n",
    "m"
   ]
  },
  {
   "cell_type": "code",
   "execution_count": 7,
   "metadata": {},
   "outputs": [],
   "source": [
    "# save and set initial values\n",
    "q0 = q\n",
    "p0 = p\n",
    "\n",
    "# set learning rate\n",
    "a = 0.1"
   ]
  },
  {
   "cell_type": "code",
   "execution_count": 8,
   "metadata": {},
   "outputs": [],
   "source": [
    "from copy import deepcopy"
   ]
  },
  {
   "cell_type": "code",
   "execution_count": 9,
   "metadata": {},
   "outputs": [],
   "source": [
    "# let jax run with autodiff\n",
    "_, f_vjp_bonds = jax.vjp(bonds.parametrize, jnp.asarray(p))"
   ]
  },
  {
   "cell_type": "code",
   "execution_count": 10,
   "metadata": {},
   "outputs": [],
   "source": [
    "q_target = deepcopy(q0)\n",
    "\n",
    "# modify a few of the targets to arbitrary values;\n",
    "# this mimic some \"true\" values we wish to tune to\n",
    "q_target[0, 1] = 1.8\n",
    "q_target[4, 1] = 1.2\n",
    "q_target[-1, 1] = 0.8\n",
    "\n",
    "\n",
    "# create a dummy loss function via faking known target parameters;\n",
    "# this should probably be something like the the squared difference\n",
    "# between computed and reference energies\n",
    "def loss(q):\n",
    "    return (q - q_target)"
   ]
  },
  {
   "cell_type": "code",
   "execution_count": 11,
   "metadata": {},
   "outputs": [
    {
     "data": {
      "text/plain": [
       "(DeviceArray([[ 0.        , -0.2796241 ],\n",
       "              [ 0.        ,  0.        ],\n",
       "              [ 0.        ,  0.21428788],\n",
       "              [ 0.        ,  0.17076874]], dtype=float32),)"
      ]
     },
     "execution_count": 11,
     "metadata": {},
     "output_type": "execute_result"
    }
   ],
   "source": [
    "# derivative of loss function evaluated at the original system parameters;\n",
    "# note that column 0 mathces target values, so the derivate is flat\n",
    "f_vjp_bonds(loss(q0))"
   ]
  },
  {
   "cell_type": "code",
   "execution_count": 12,
   "metadata": {
    "scrolled": true
   },
   "outputs": [
    {
     "name": "stdout",
     "output_type": "stream",
     "text": [
      "step 0\tloss: 0.12414940446615219\n",
      "step 10\tloss: 0.015093667432665825\n",
      "step 20\tloss: 0.0018350386526435614\n",
      "step 30\tloss: 0.00022309676569420844\n",
      "step 40\tloss: 2.7124058760819025e-05\n",
      "step 50\tloss: 3.2975722206174396e-06\n",
      "step 60\tloss: 4.0098871068039443e-07\n",
      "step 70\tloss: 4.876030246236951e-08\n",
      "step 80\tloss: 5.943267211705461e-09\n",
      "step 90\tloss: 7.209450814116281e-10\n"
     ]
    },
    {
     "data": {
      "text/plain": [
       "(0.5, 2.0)"
      ]
     },
     "execution_count": 12,
     "metadata": {},
     "output_type": "execute_result"
    },
    {
     "data": {
      "image/png": "[encoded data removed]",
      "text/plain": [
       "<Figure size 432x288 with 1 Axes>"
      ]
     },
     "metadata": {
      "needs_background": "light"
     },
     "output_type": "display_data"
    }
   ],
   "source": [
    "fig, ax = plt.subplots()\n",
    "\n",
    "# label target values\n",
    "ax.hlines(1.8, 0, 100, color='k', ls='--')\n",
    "ax.hlines(1.2, 0, 100, color='r', ls='--')\n",
    "ax.hlines(0.8, 0, 100, color='b', ls='--')\n",
    "\n",
    "for i in range(100):\n",
    "    # use jax to get the gradient\n",
    "    grad = f_vjp_bonds(loss(q))[0]\n",
    "    # update force field parameters\n",
    "    p -= a * grad\n",
    "    # use the parametrization matrix to propagate new\n",
    "    # force field parameters into new system parameters\n",
    "    q = m.dot(p.flatten()).reshape((-1, 2))\n",
    "    if i % 10 == 0:\n",
    "        print(f'step {i}\\tloss: {np.sum(loss(q) ** 2)}')\n",
    "        ax.plot(i, p[0][1], 'k.')\n",
    "        ax.plot(i, p[1][1], 'r.')\n",
    "        ax.plot(i, p[3][1], 'b.')\n",
    "\n",
    "ax.set_xlabel('iteration')\n",
    "ax.set_ylabel('parameter value (bond length-ish)')\n",
    "ax.set_xlim((0, 100))\n",
    "ax.set_ylim((0.5, 2.0))"
   ]
  },
  {
   "cell_type": "code",
   "execution_count": 13,
   "metadata": {},
   "outputs": [],
   "source": [
    "# We can do everything all over again with angles, almost identically\n",
    "angles = mysys.handlers['Angles']\n",
    "q0 = angles.get_system_parameters()\n",
    "p0 = angles.get_force_field_parameters()\n",
    "mapping = angles.get_mapping()\n",
    "m = angles.get_param_matrix()\n",
    "q = q0\n",
    "p = p0\n",
    "a = 0.1\n",
    "\n",
    "q_target = deepcopy(q0)\n",
    "q_target[:, 1] -= 5\n",
    "\n",
    "def loss(q):\n",
    "    return (q - q_target)\n",
    "\n",
    "_, f_vjp_angles = jax.vjp(angles.parametrize, jnp.asarray(p))"
   ]
  },
  {
   "cell_type": "code",
   "execution_count": 14,
   "metadata": {},
   "outputs": [
    {
     "name": "stdout",
     "output_type": "stream",
     "text": [
      "step 0\tloss: 64.25\n",
      "step 10\tloss: 2.4632463455200195\n",
      "step 20\tloss: 0.2993059754371643\n",
      "step 30\tloss: 0.036385610699653625\n",
      "step 40\tloss: 0.004423987120389938\n",
      "step 50\tloss: 0.0005375783075578511\n",
      "step 60\tloss: 6.527901859954e-05\n",
      "step 70\tloss: 7.92584614828229e-06\n",
      "step 80\tloss: 9.539071470499039e-07\n",
      "step 90\tloss: 1.1292286217212677e-07\n"
     ]
    },
    {
     "data": {
      "text/plain": [
       "(100.0, 110.0)"
      ]
     },
     "execution_count": 14,
     "metadata": {},
     "output_type": "execute_result"
    },
    {
     "data": {
      "image/png": "[encoded data removed]",
      "text/plain": [
       "<Figure size 432x288 with 1 Axes>"
      ]
     },
     "metadata": {
      "needs_background": "light"
     },
     "output_type": "display_data"
    }
   ],
   "source": [
    "fig, ax = plt.subplots()\n",
    "\n",
    "# label target values\n",
    "ax.hlines(105.25177978, 0, 100, color='k', ls='--')\n",
    "ax.hlines(102.66078218, 0, 100, color='r', ls='--')\n",
    "ax.hlines(102.66078218, 0, 100, color='g', ls='--')\n",
    "\n",
    "for i in range(100):\n",
    "    # use jax to get the gradient\n",
    "    grad = f_vjp_angles(loss(q))[0]\n",
    "    # update force field parameters\n",
    "    p -= a * grad\n",
    "    # print(p[0])\n",
    "    q = m.dot(p.flatten()).reshape((-1, 2))\n",
    "    if i % 10 == 0:\n",
    "        print(f'step {i}\\tloss: {np.sum(loss(q) ** 2)}')\n",
    "        ax.plot(i, p[2][1], 'k.')\n",
    "        ax.plot(i, p[0][1], 'r.')\n",
    "        ax.plot(i, p[1][1], 'g.')\n",
    "\n",
    "ax.set_xlabel('iteration')\n",
    "ax.set_ylabel('parameter value (angle-ish)')\n",
    "ax.set_xlim((0, 100))\n",
    "ax.set_ylim((100, 110))"
   ]
  },
  {
   "cell_type": "markdown",
   "metadata": {},
   "source": [
    "Based on some discussions with YTZ and others, it's likely intractable to have a _single_ matrix that globally represents the entire set of force field parameters $\\textit{P}$ because it scales poorly with system size and complexity; consider the corresponding system parameter matrix $\\textit{Q}$ and the mapping matrix between them $\\textit{M}$. A different approach involves by separating things into individual handlers which each store data and logic for how to manage said data. This naturally mirrors the intent of handlers in the toolkit's force field class, albeit with some complexity in how electrostatics are actually processed. JAX seems to be able to reconstruct this later on, i.e. drive a grand optimization by summing smaller VJPs. Other libraries may require porting, if they can even handle the heterogenous optimizations we care about (TBD).\n",
    "\n",
    "The above demonstrates the two easiest handlers; bonds and angles are relatively small amounts of data, map back onto chemical topology cleanly, and are not meaningfully represented by sparse matrices. Propers and impropers introduce more issues. The next steps are to construct more meaningful loss functions and try to optimize bonds and angles simultaneously."
   ]
  }
 ],
 "metadata": {
  "kernelspec": {
   "display_name": "Python 3",
   "language": "python",
   "name": "python3"
  },
  "language_info": {
   "codemirror_mode": {
    "name": "ipython",
    "version": 3
   },
   "file_extension": ".py",
   "mimetype": "text/x-python",
   "name": "python",
   "nbconvert_exporter": "python",
   "pygments_lexer": "ipython3",
   "version": "3.7.9"
  }
 },
 "nbformat": 4,
 "nbformat_minor": 4
}
