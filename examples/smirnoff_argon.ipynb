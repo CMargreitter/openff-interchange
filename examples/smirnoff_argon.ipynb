{
 "cells": [
  {
   "cell_type": "code",
   "execution_count": 1,
   "metadata": {},
   "outputs": [],
   "source": [
    "import numpy as np\n",
    "\n",
    "from openforcefield.typing.engines.smirnoff import ForceField\n",
    "from openforcefield.topology.molecule import Molecule\n",
    "from openforcefield.topology.topology import Topology\n",
    "\n",
    "from system.typing.smirnoff import *\n",
    "from system.system import System\n",
    "from system.utils import get_test_file_path"
   ]
  },
  {
   "cell_type": "code",
   "execution_count": 2,
   "metadata": {},
   "outputs": [],
   "source": [
    "# Load in a minimal SMIRNOFF forcefield and Argon topology\n",
    "argon_ff = ForceField(get_test_file_path('argon.offxml'))\n",
    "\n",
    "mol = Molecule.from_smiles('[#18]')\n",
    "mol.generate_conformers(n_conformers=1)\n",
    "\n",
    "argon_top =  Topology.from_molecules(10 * [mol])"
   ]
  },
  {
   "cell_type": "code",
   "execution_count": 3,
   "metadata": {},
   "outputs": [
    {
     "data": {
      "text/plain": [
       "{'vdW': {(0,): '[#18:1]',\n",
       "  (1,): '[#18:1]',\n",
       "  (2,): '[#18:1]',\n",
       "  (3,): '[#18:1]',\n",
       "  (4,): '[#18:1]',\n",
       "  (5,): '[#18:1]',\n",
       "  (6,): '[#18:1]',\n",
       "  (7,): '[#18:1]',\n",
       "  (8,): '[#18:1]',\n",
       "  (9,): '[#18:1]'}}"
      ]
     },
     "execution_count": 3,
     "metadata": {},
     "output_type": "execute_result"
    }
   ],
   "source": [
    "# Generate a mapping of topology slots and SMIRNOFF SMIRKS\n",
    "slot_smirks_map = build_slot_smirks_map(forcefield=argon_ff, topology=argon_top)\n",
    "# {\n",
    "#   handler_name1: {\n",
    "#     {\n",
    "#       slot1: SMIRKS1,\n",
    "#       slot2: SMIRKS2,\n",
    "#       slot3: SMIRKS3,\n",
    "#       ...,\n",
    "#       slotN: SMIRKSN,\n",
    "#     },\n",
    "#   handler_name2: { ... },\n",
    "#   handler_name3: { ... },\n",
    "#   ...\n",
    "#   handler_nameN: { ... },\n",
    "# }\n",
    "slot_smirks_map"
   ]
  },
  {
   "cell_type": "code",
   "execution_count": 4,
   "metadata": {},
   "outputs": [],
   "source": [
    "smirks_potential_map = build_smirks_potential_map(forcefield=argon_ff)"
   ]
  },
  {
   "cell_type": "code",
   "execution_count": 5,
   "metadata": {},
   "outputs": [],
   "source": [
    "argon_system = System(\n",
    "    topology=argon_top,\n",
    "    forcefield=argon_ff,\n",
    "    positions=np.empty(shape=(10, 3)),\n",
    "    box=np.empty((3, 3)),\n",
    ")"
   ]
  },
  {
   "cell_type": "code",
   "execution_count": 6,
   "metadata": {},
   "outputs": [
    {
     "data": {
      "text/plain": [
       "openforcefield.topology.topology.Topology"
      ]
     },
     "execution_count": 6,
     "metadata": {},
     "output_type": "execute_result"
    }
   ],
   "source": [
    "# The topology attribute simply stores the toolkit topology\n",
    "type(argon_system.topology)"
   ]
  },
  {
   "cell_type": "code",
   "execution_count": 7,
   "metadata": {},
   "outputs": [
    {
     "data": {
      "text/plain": [
       "system.typing.smirnoff.SMIRNOFFTermCollection"
      ]
     },
     "execution_count": 7,
     "metadata": {},
     "output_type": "execute_result"
    }
   ],
   "source": [
    "# The term_collection is effectively a force field for SMIRNOFF systems,\n",
    "# but is more flexible for future typing schemes that are much less \"1:1\" than\n",
    "# traiditional atom-typing or SMIRNOFF, which generally map 1 parameter to a slot\n",
    "type(argon_system.term_collection)"
   ]
  },
  {
   "cell_type": "code",
   "execution_count": 8,
   "metadata": {},
   "outputs": [
    {
     "data": {
      "text/plain": [
       "SMIRNOFFTermCollection(terms={'vdW': SMIRNOFFvdWTerm(name='vdW', smirks_map={(0,): '[#18:1]', (1,): '[#18:1]', (2,): '[#18:1]', (3,): '[#18:1]', (4,): '[#18:1]', (5,): '[#18:1]', (6,): '[#18:1]', (7,): '[#18:1]', (8,): '[#18:1]', (9,): '[#18:1]'}, potentials={'[#18:1]': ParametrizedAnalyticalPotential(name='n1', smirks='[#18:1]', expression='4*epsilon*((sigma/r)**12-(sigma/r)**6)', independent_variables={'r'}, parameters={'sigma': <Quantity(0.3, 'nanometer')>, 'epsilon': <Quantity(0.1, 'kilojoule / mole')>})})})"
      ]
     },
     "execution_count": 8,
     "metadata": {},
     "output_type": "execute_result"
    }
   ],
   "source": [
    "# A SMIRNOFFTermCollection object stores \"types\" of potentials, i.e. one section for vdW,\n",
    "# one section for bonds, etc. in order to separate parameters from instructions; defining\n",
    "# a SMIRKS pattern and a slot is not sufficient instructions to apply the corresponding \n",
    "# parameter. This system only has vdW, but this dict is intended to store other non-bonded\n",
    "# terms, valence terms, wild cross-coupling terms, etc.\n",
    "argon_system.term_collection"
   ]
  },
  {
   "cell_type": "code",
   "execution_count": 9,
   "metadata": {},
   "outputs": [
    {
     "data": {
      "text/html": [
       "\\[0.3\\ nanometer\\]"
      ],
      "text/latex": [
       "$0.3\\ \\mathrm{nanometer}$"
      ],
      "text/plain": [
       "0.3 <Unit('nanometer')>"
      ]
     },
     "execution_count": 9,
     "metadata": {},
     "output_type": "execute_result"
    }
   ],
   "source": [
    "# A SMIRNOFFTermCollection is more or less nested dictionaries, so you can drill down\n",
    "# to find the value of a particular parameter in a potential, returning a \n",
    "# unit-bearing quantity (via pint).\n",
    "argon_system.term_collection.terms['vdW'].potentials['[#18:1]'].parameters['sigma']\n",
    "# The path is convoluted, but goes something like this\n",
    "# sys_name.potential_collection['vdW'].potentials[smirks].parameters['sigma']\n",
    "#    ^                            ^                 ^                   ^\n",
    "#    |                            |                 |                   | \n",
    "#    |                            |                 |                   | \n",
    "#    |                \"type\" (?) of potential       |     finally, the actual param\n",
    "#    |                                              |\n",
    "# system I care about                SMIRKS key, mapping to a potential"
   ]
  },
  {
   "cell_type": "code",
   "execution_count": 10,
   "metadata": {},
   "outputs": [
    {
     "data": {
      "text/plain": [
       "ParametrizedAnalyticalPotential(name='n1', smirks='[#18:1]', expression='4*epsilon*((sigma/r)**12-(sigma/r)**6)', independent_variables={'r'}, parameters={'sigma': <Quantity(0.3, 'nanometer')>, 'epsilon': <Quantity(0.1, 'kilojoule / mole')>})"
      ]
     },
     "execution_count": 10,
     "metadata": {},
     "output_type": "execute_result"
    }
   ],
   "source": [
    "# There's other information included in each potential, notably the\n",
    "# analytical expression of the potential and the SMIRKS\n",
    "argon_system.term_collection.terms['vdW'].potentials['[#18:1]']"
   ]
  },
  {
   "cell_type": "code",
   "execution_count": 11,
   "metadata": {},
   "outputs": [
    {
     "data": {
      "text/plain": [
       "{(0,): '[#18:1]',\n",
       " (1,): '[#18:1]',\n",
       " (2,): '[#18:1]',\n",
       " (3,): '[#18:1]',\n",
       " (4,): '[#18:1]',\n",
       " (5,): '[#18:1]',\n",
       " (6,): '[#18:1]',\n",
       " (7,): '[#18:1]',\n",
       " (8,): '[#18:1]',\n",
       " (9,): '[#18:1]'}"
      ]
     },
     "execution_count": 11,
     "metadata": {},
     "output_type": "execute_result"
    }
   ],
   "source": [
    "# Going back to the smirks_map, which is a dictionary mapping \"slots\" to potentials\n",
    "# In the simple case, this is just atom indicies : SMKIRKS\n",
    "slot_smirks_map['vdW']"
   ]
  },
  {
   "cell_type": "code",
   "execution_count": 12,
   "metadata": {},
   "outputs": [
    {
     "data": {
      "text/plain": [
       "ParametrizedAnalyticalPotential(name='n1', smirks='[#18:1]', expression='4*epsilon*((sigma/r)**12-(sigma/r)**6)', independent_variables={'r'}, parameters={'sigma': <Quantity(0.3, 'nanometer')>, 'epsilon': <Quantity(0.1, 'kilojoule / mole')>})"
      ]
     },
     "execution_count": 12,
     "metadata": {},
     "output_type": "execute_result"
    }
   ],
   "source": [
    "# The smirks_map and term_collection can be used to look up potentials\n",
    "# using the 'vdW' and SMIRKS as sufficient information\n",
    "argon_system.term_collection.terms['vdW'].potentials[slot_smirks_map['vdW'][(7,)]]"
   ]
  },
  {
   "cell_type": "code",
   "execution_count": 13,
   "metadata": {},
   "outputs": [
    {
     "data": {
      "text/plain": [
       "{'topology': <openforcefield.topology.topology.Topology at 0x131eeed10>,\n",
       " 'forcefield': <openforcefield.typing.engines.smirnoff.forcefield.ForceField at 0x131eeed90>,\n",
       " 'slot_smirks_map': {'vdW': {(0,): '[#18:1]',\n",
       "   (1,): '[#18:1]',\n",
       "   (2,): '[#18:1]',\n",
       "   (3,): '[#18:1]',\n",
       "   (4,): '[#18:1]',\n",
       "   (5,): '[#18:1]',\n",
       "   (6,): '[#18:1]',\n",
       "   (7,): '[#18:1]',\n",
       "   (8,): '[#18:1]',\n",
       "   (9,): '[#18:1]'}},\n",
       " 'smirks_potential_map': {'vdW': {(0,): '[#18:1]',\n",
       "   (1,): '[#18:1]',\n",
       "   (2,): '[#18:1]',\n",
       "   (3,): '[#18:1]',\n",
       "   (4,): '[#18:1]',\n",
       "   (5,): '[#18:1]',\n",
       "   (6,): '[#18:1]',\n",
       "   (7,): '[#18:1]',\n",
       "   (8,): '[#18:1]',\n",
       "   (9,): '[#18:1]'}},\n",
       " 'term_collection': {'terms': {'vdW': {'name': 'vdW',\n",
       "    'smirks_map': {(0,): '[#18:1]',\n",
       "     (1,): '[#18:1]',\n",
       "     (2,): '[#18:1]',\n",
       "     (3,): '[#18:1]',\n",
       "     (4,): '[#18:1]',\n",
       "     (5,): '[#18:1]',\n",
       "     (6,): '[#18:1]',\n",
       "     (7,): '[#18:1]',\n",
       "     (8,): '[#18:1]',\n",
       "     (9,): '[#18:1]'},\n",
       "    'potentials': {'[#18:1]': {'name': 'n1',\n",
       "      'smirks': '[#18:1]',\n",
       "      'expression': '4*epsilon*((sigma/r)**12-(sigma/r)**6)',\n",
       "      'independent_variables': {'r'},\n",
       "      'parameters': {'sigma': 0.3 <Unit('nanometer')>,\n",
       "       'epsilon': 0.1 <Unit('kilojoule / mole')>}}}}}},\n",
       " 'positions': array([[0.00000000e+000, 0.00000000e+000, 7.41098469e-323],\n",
       "        [0.00000000e+000, 0.00000000e+000, 5.02034658e+175],\n",
       "        [1.16066578e-046, 2.57494210e-056, 8.70410566e-071],\n",
       "        [4.31963530e-061, 7.10911173e-144, 1.12855837e+277],\n",
       "        [6.32672840e+180, 3.77716621e+233, 5.04621361e+180],\n",
       "        [8.37170571e-144, 4.96216861e+180, 8.37174974e-144],\n",
       "        [2.19210068e-056, 1.41914717e+161, 9.68036692e-071],\n",
       "        [8.98497346e-067, 5.28555805e+180, 4.96924456e-091],\n",
       "        [7.77059131e-043, 3.66917682e-062, 4.29600105e-096],\n",
       "        [9.08366791e+223, 5.81186265e+294, 2.08600674e-308]]) <Unit('nanometer')>,\n",
       " 'box': array([[ 0.00000000e+000,  2.00389446e+000,  2.32834771e-314],\n",
       "        [ 6.93237491e-310,  6.93237491e-310,  6.93237491e-310],\n",
       "        [ 0.00000000e+000,  2.32035127e+077, -1.29073824e-231]]) <Unit('nanometer')>}"
      ]
     },
     "execution_count": 13,
     "metadata": {},
     "output_type": "execute_result"
    }
   ],
   "source": [
    "# Being built off of pydantic, we get a serializable representation for free,\n",
    "# caveats being that some components are not actually serializable now\n",
    "argon_system.dict()"
   ]
  },
  {
   "cell_type": "code",
   "execution_count": 14,
   "metadata": {},
   "outputs": [
    {
     "data": {
      "text/plain": [
       "{'name': 'n1',\n",
       " 'smirks': '[#18:1]',\n",
       " 'expression': '4*epsilon*((sigma/r)**12-(sigma/r)**6)',\n",
       " 'independent_variables': {'r'},\n",
       " 'parameters': {'sigma': 0.3 <Unit('nanometer')>,\n",
       "  'epsilon': 0.1 <Unit('kilojoule / mole')>}}"
      ]
     },
     "execution_count": 14,
     "metadata": {},
     "output_type": "execute_result"
    }
   ],
   "source": [
    "# Being a nested dictionary, you could also grab a component and make that a dict\n",
    "argon_system.term_collection.terms['vdW'].potentials['[#18:1]'].dict()"
   ]
  }
 ],
 "metadata": {
  "kernelspec": {
   "display_name": "Python 3",
   "language": "python",
   "name": "python3"
  },
  "language_info": {
   "codemirror_mode": {
    "name": "ipython",
    "version": 3
   },
   "file_extension": ".py",
   "mimetype": "text/x-python",
   "name": "python",
   "nbconvert_exporter": "python",
   "pygments_lexer": "ipython3",
   "version": "3.7.6"
  }
 },
 "nbformat": 4,
 "nbformat_minor": 4
}
