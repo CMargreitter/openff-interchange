{
 "cells": [
  {
   "cell_type": "code",
   "execution_count": 1,
   "metadata": {},
   "outputs": [
    {
     "data": {
      "application/vnd.jupyter.widget-view+json": {
       "model_id": "bf5333752e544359b201095dcab7ea2e",
       "version_major": 2,
       "version_minor": 0
      },
      "text/plain": []
     },
     "metadata": {},
     "output_type": "display_data"
    }
   ],
   "source": [
    "import numpy as np\n",
    "\n",
    "from openforcefield.topology import Molecule, Topology\n",
    "\n",
    "from openff.system.stubs import ForceField\n",
    "from openff.system.utils import get_test_file_path"
   ]
  },
  {
   "cell_type": "code",
   "execution_count": 2,
   "metadata": {},
   "outputs": [],
   "source": [
    "# Load a minimal SMIRNOFF forcefield and Argon topology\n",
    "argon_ff = ForceField(get_test_file_path('argon.offxml'))\n",
    "\n",
    "mol = Molecule.from_smiles('[#18]')\n",
    "mol.generate_conformers(n_conformers=1)\n",
    "\n",
    "argon_top =  Topology.from_molecules(10 * [mol])"
   ]
  },
  {
   "cell_type": "code",
   "execution_count": 3,
   "metadata": {},
   "outputs": [],
   "source": [
    "# Use a monkey-patched function to parametrize the topology against a force field\n",
    "sys_out = argon_ff.create_openff_system(argon_top)"
   ]
  },
  {
   "cell_type": "code",
   "execution_count": 4,
   "metadata": {},
   "outputs": [
    {
     "data": {
      "text/plain": [
       "dict_keys(['vdW'])"
      ]
     },
     "execution_count": 4,
     "metadata": {},
     "output_type": "execute_result"
    }
   ],
   "source": [
    "# Look at which ParameterHandler objects from the OpenFF toolkit \n",
    "# have been made into Potentialhandler objects\n",
    "sys_out.handlers.keys()"
   ]
  },
  {
   "cell_type": "code",
   "execution_count": 5,
   "metadata": {},
   "outputs": [],
   "source": [
    "# Store this handler to inspect its contents\n",
    "vdw = sys_out.handlers['vdW']"
   ]
  },
  {
   "cell_type": "code",
   "execution_count": 6,
   "metadata": {},
   "outputs": [
    {
     "data": {
      "text/plain": [
       "('vdW', '4*epsilon*((sigma/r)**12-(sigma/r)**6)', {'r'})"
      ]
     },
     "execution_count": 6,
     "metadata": {},
     "output_type": "execute_result"
    }
   ],
   "source": [
    "# Look at some ~metadata\n",
    "vdw.name, vdw.expression, vdw.independent_variables"
   ]
  },
  {
   "cell_type": "code",
   "execution_count": 7,
   "metadata": {},
   "outputs": [
    {
     "data": {
      "text/plain": [
       "{(0,): '[#18:1]',\n",
       " (1,): '[#18:1]',\n",
       " (2,): '[#18:1]',\n",
       " (3,): '[#18:1]',\n",
       " (4,): '[#18:1]',\n",
       " (5,): '[#18:1]',\n",
       " (6,): '[#18:1]',\n",
       " (7,): '[#18:1]',\n",
       " (8,): '[#18:1]',\n",
       " (9,): '[#18:1]'}"
      ]
     },
     "execution_count": 7,
     "metadata": {},
     "output_type": "execute_result"
    }
   ],
   "source": [
    "# Return a mapping between atom indices and SMIRKS identifiers\n",
    "vdw.slot_map"
   ]
  },
  {
   "cell_type": "code",
   "execution_count": 8,
   "metadata": {},
   "outputs": [
    {
     "data": {
      "text/plain": [
       "{'[#18:1]': Potential(parameters={'sigma': <Quantity(0.3, 'nanometer')>, 'epsilon': <Quantity(0.1, 'kilojoule / mole')>})}"
      ]
     },
     "execution_count": 8,
     "metadata": {},
     "output_type": "execute_result"
    }
   ],
   "source": [
    "# Return a mapping between SMIRKS identifiers and Potential objects;\n",
    "# Note the de-duplication, resulting from a many-to-few mapping between\n",
    "# atoms in the topology and unique parameters in the force field\n",
    "vdw.potentials"
   ]
  },
  {
   "cell_type": "code",
   "execution_count": 9,
   "metadata": {},
   "outputs": [
    {
     "data": {
      "text/plain": [
       "Potential(parameters={'sigma': <Quantity(0.3, 'nanometer')>, 'epsilon': <Quantity(0.1, 'kilojoule / mole')>})"
      ]
     },
     "execution_count": 9,
     "metadata": {},
     "output_type": "execute_result"
    }
   ],
   "source": [
    "# Look at this contents of this Potential objects\n",
    "vdw.potentials['[#18:1]']"
   ]
  },
  {
   "cell_type": "code",
   "execution_count": 10,
   "metadata": {},
   "outputs": [
    {
     "data": {
      "text/html": [
       "0.3 nanometer"
      ],
      "text/latex": [
       "$0.3\\ \\mathrm{nanometer}$"
      ],
      "text/plain": [
       "0.3 <Unit('nanometer')>"
      ]
     },
     "execution_count": 10,
     "metadata": {},
     "output_type": "execute_result"
    }
   ],
   "source": [
    "# Further, look at the particular value of one of its parameters\n",
    "vdw.potentials['[#18:1]'].parameters['sigma']"
   ]
  },
  {
   "cell_type": "code",
   "execution_count": 11,
   "metadata": {},
   "outputs": [
    {
     "data": {
      "text/html": [
       "0.3 nanometer"
      ],
      "text/latex": [
       "$0.3\\ \\mathrm{nanometer}$"
      ],
      "text/plain": [
       "0.3 <Unit('nanometer')>"
      ]
     },
     "execution_count": 11,
     "metadata": {},
     "output_type": "execute_result"
    }
   ],
   "source": [
    "# Look up, from the highest-level object, this same data, using the\n",
    "# SMIRKS pattern as a key connecting the topological data to the\n",
    "# parametrized data\n",
    "sys_out.handlers['vdW'].potentials[\n",
    "    sys_out.handlers['vdW'].slot_map[(0,)]\n",
    "].parameters['sigma']"
   ]
  }
 ],
 "metadata": {
  "kernelspec": {
   "display_name": "Python 3",
   "language": "python",
   "name": "python3"
  },
  "language_info": {
   "codemirror_mode": {
    "name": "ipython",
    "version": 3
   },
   "file_extension": ".py",
   "mimetype": "text/x-python",
   "name": "python",
   "nbconvert_exporter": "python",
   "pygments_lexer": "ipython3",
   "version": "3.7.9"
  }
 },
 "nbformat": 4,
 "nbformat_minor": 4
}
