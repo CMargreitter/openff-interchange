{
 "cells": [
  {
   "cell_type": "markdown",
   "id": "da763e5d-d418-4c68-9488-9236d4c3c1e5",
   "metadata": {
    "tags": []
   },
   "source": [
    "### Using SMIRNOFF in host-guest systems\n",
    "\n",
    "This is a refresh of a notebook written by David Mobley\n",
    "\n",
    "https://github.com/openforcefield/openff-toolkit/blob/master/examples/deprecated/host_guest_simulation/smirnoff_host_guest.ipynb"
   ]
  },
  {
   "cell_type": "code",
   "execution_count": 1,
   "id": "396bc2eb-d768-4377-85e8-5f2a339723c3",
   "metadata": {},
   "outputs": [
    {
     "data": {
      "application/vnd.jupyter.widget-view+json": {
       "model_id": "ee84c80ab7a6479182875fa658f6d4cd",
       "version_major": 2,
       "version_minor": 0
      },
      "text/plain": []
     },
     "metadata": {},
     "output_type": "display_data"
    },
    {
     "name": "stderr",
     "output_type": "stream",
     "text": [
      "Warning: importing 'simtk.openmm' is deprecated.  Import 'openmm' instead.\n"
     ]
    }
   ],
   "source": [
    "import mdtraj as md\n",
    "import nglview\n",
    "from openeye import oechem, oedocking\n",
    "\n",
    "assert oechem.OEChemIsLicensed()\n",
    "\n",
    "from openff.toolkit.topology import Molecule, Topology\n",
    "from openff.toolkit.typing.engines.smirnoff import ForceField\n",
    "\n",
    "from openff.interchange.components.interchange import Interchange"
   ]
  },
  {
   "cell_type": "code",
   "execution_count": 2,
   "id": "4e43cffa-3009-4b10-a36a-a0d932cd0620",
   "metadata": {},
   "outputs": [
    {
     "data": {
      "application/vnd.jupyter.widget-view+json": {
       "model_id": "42b4da83d32b4712b2f22ef36246da88",
       "version_major": 2,
       "version_minor": 0
      },
      "text/plain": [
       "NGLWidget(max_frame=5)"
      ]
     },
     "metadata": {},
     "output_type": "display_data"
    }
   ],
   "source": [
    "guest_smiles = \"OC(CC1CCCC1)=O\"\n",
    "\n",
    "guest = Molecule.from_smiles(guest_smiles)\n",
    "guest.assign_partial_charges(partial_charge_method=\"am1bcc\")\n",
    "guest.generate_conformers(n_conformers=100)\n",
    "guest"
   ]
  },
  {
   "cell_type": "code",
   "execution_count": 3,
   "id": "320e0ce3-6613-4346-89ec-a4e0554f50ec",
   "metadata": {},
   "outputs": [
    {
     "data": {
      "application/vnd.jupyter.widget-view+json": {
       "model_id": "4e7a306deac14fd8b233678601e3e7cd",
       "version_major": 2,
       "version_minor": 0
      },
      "text/plain": [
       "NGLWidget()"
      ]
     },
     "metadata": {},
     "output_type": "display_data"
    }
   ],
   "source": [
    "host = Molecule.from_file(\"OA.mol2\")\n",
    "host"
   ]
  },
  {
   "cell_type": "code",
   "execution_count": 4,
   "id": "f94aeaa2-5f30-4254-9639-883b3d095bb8",
   "metadata": {},
   "outputs": [],
   "source": [
    "oe_guest = guest.to_openeye()\n",
    "oe_host = host.to_openeye()\n",
    "\n",
    "center_of_mass = oechem.OEFloatArray(3)\n",
    "oechem.OEGetCenterOfMass(oe_host, center_of_mass)\n",
    "\n",
    "# Create receptor, as per https://docs.eyesopen.com/toolkits/python/dockingtk/receptor.html#creating-a-receptor\n",
    "receptor = oechem.OEGraphMol()\n",
    "oedocking.OEMakeReceptor(receptor, host.to_openeye(), *center_of_mass)\n",
    "\n",
    "dock = oedocking.OEDock()\n",
    "dock.Initialize(receptor)\n",
    "\n",
    "dockedMol = oechem.OEGraphMol()\n",
    "status = dock.DockMultiConformerMolecule(dockedMol, oe_guest)\n",
    "sdtag = oedocking.OEDockMethodGetName(oedocking.OEDockMethod_Chemgauss4)\n",
    "oedocking.OESetSDScore(dockedMol, dock, sdtag)\n",
    "dock.AnnotatePose(dockedMol)\n",
    "\n",
    "# Write out docked pose if docking successful\n",
    "if status == oedocking.OEDockingReturnCode_Success:\n",
    "    outmol = dockedMol\n",
    "\n",
    "    # Write out\n",
    "    tripos_mol2_filename = \"docked_guest.mol2\"\n",
    "    ofile = oechem.oemolostream(tripos_mol2_filename)\n",
    "    oechem.OEWriteMolecule(ofile, outmol)\n",
    "    ofile.close()\n",
    "\n",
    "    # Clean up residue names in mol2 files that are tleap-incompatible: replace substructure names with valid text.\n",
    "    infile = open(tripos_mol2_filename)\n",
    "    lines = infile.readlines()\n",
    "    infile.close()\n",
    "    newlines = [line.replace(\"<0>\", \"GUEST\") for line in lines]\n",
    "    outfile = open(tripos_mol2_filename, \"w\")\n",
    "    outfile.writelines(newlines)\n",
    "    outfile.close()\n",
    "else:\n",
    "    raise Exception(\"Error: Docking failed.\")"
   ]
  },
  {
   "cell_type": "code",
   "execution_count": 5,
   "id": "e406b941-06ea-4303-a0b9-4480b73018f8",
   "metadata": {},
   "outputs": [
    {
     "data": {
      "application/vnd.jupyter.widget-view+json": {
       "model_id": "4ac764bcc2d84a0ca3b391525fb61b51",
       "version_major": 2,
       "version_minor": 0
      },
      "text/plain": [
       "NGLWidget()"
      ]
     },
     "metadata": {},
     "output_type": "display_data"
    }
   ],
   "source": [
    "nglview.show_mdtraj(md.load(\"OA.mol2\").stack(md.load(\"docked_guest.mol2\")))"
   ]
  },
  {
   "cell_type": "code",
   "execution_count": 6,
   "id": "df5c3f9f-81ca-4ad2-906d-8c6cbf068c82",
   "metadata": {
    "tags": []
   },
   "outputs": [
    {
     "data": {
      "application/vnd.jupyter.widget-view+json": {
       "model_id": "0e4de12064704eacab4afd5623d1ad89",
       "version_major": 2,
       "version_minor": 0
      },
      "text/plain": [
       "NGLWidget()"
      ]
     },
     "metadata": {},
     "output_type": "display_data"
    }
   ],
   "source": [
    "_host = md.load(\"OA.mol2\")\n",
    "_guest = md.load(\"docked_guest.mol2\")\n",
    "\n",
    "# Figure out which atom indices correspond to the guest, for use in visualization\n",
    "atoms_guest = [_host.n_atoms + i for i in range(_guest.n_atoms)]\n",
    "\n",
    "# \"Stack\" host and guest Trajectory objects into a single object\n",
    "combined = _host.stack(_guest)\n",
    "\n",
    "# Visualize\n",
    "view = nglview.show_mdtraj(combined)\n",
    "view.add_representation(\"spacefill\", selection=\"all\")\n",
    "view.add_representation(\"spacefill\", selection=atoms_guest, color=\"green\")\n",
    "view"
   ]
  },
  {
   "cell_type": "code",
   "execution_count": 7,
   "id": "91278902-b246-4ff0-aca8-aa2ae00d213c",
   "metadata": {},
   "outputs": [],
   "source": [
    "docked_topology = Topology.from_molecules(\n",
    "    [Molecule.from_openeye(oemol) for oemol in [oe_host, oe_guest]]\n",
    ")"
   ]
  },
  {
   "cell_type": "code",
   "execution_count": 8,
   "id": "b48cdd07-8fef-4a10-a457-67fc5a186990",
   "metadata": {},
   "outputs": [],
   "source": [
    "sage = ForceField(\"openff-2.0.0.offxml\")"
   ]
  },
  {
   "cell_type": "code",
   "execution_count": 9,
   "id": "6170320b-0c40-4671-a05a-39c4950b7172",
   "metadata": {},
   "outputs": [
    {
     "name": "stderr",
     "output_type": "stream",
     "text": [
      "Warning: OEMMFFParams::PrepMol() : unable to type atom 42 C \n",
      "Warning: OEMMFFParams::PrepMol() : unable to type atom 46 C \n",
      "Warning: OEMMFFParams::PrepMol() : unable to type atom 50 C \n",
      "Warning: OEMMFFParams::PrepMol() : unable to type atom 54 C \n",
      "Warning: OEMMFFParams::PrepMol() : unable to type atom 106 C \n",
      "Warning: OEMMFFParams::PrepMol() : unable to type atom 108 C \n",
      "Warning: OEMMFFParams::PrepMol() : unable to type atom 110 C \n",
      "Warning: OEMMFFParams::PrepMol() : unable to type atom 115 C \n",
      "Warning: OCT: Force field setup failed due to missing parameters\n",
      "Warning: OEMMFFParams::PrepMol() : unable to type atom 42 C \n",
      "Warning: OEMMFFParams::PrepMol() : unable to type atom 46 C \n",
      "Warning: OEMMFFParams::PrepMol() : unable to type atom 50 C \n",
      "Warning: OEMMFFParams::PrepMol() : unable to type atom 54 C \n",
      "Warning: OEMMFFParams::PrepMol() : unable to type atom 106 C \n",
      "Warning: OEMMFFParams::PrepMol() : unable to type atom 108 C \n",
      "Warning: OEMMFFParams::PrepMol() : unable to type atom 110 C \n",
      "Warning: OEMMFFParams::PrepMol() : unable to type atom 115 C \n",
      "Warning: OCT: Force field setup failed due to missing parameters\n",
      "Warning (not error because allow_undefined_stereo=True): Unable to make OFFMol from RDMol: RDMol has unspecified stereochemistry. RDMol name: OCTUndefined chiral centers are:\n",
      " - Atom C (index 7)\n",
      " - Atom C (index 8)\n",
      " - Atom C (index 17)\n",
      " - Atom C (index 20)\n",
      " - Atom C (index 23)\n",
      " - Atom C (index 33)\n",
      " - Atom C (index 37)\n",
      " - Atom C (index 39)\n",
      "\n",
      "/Users/mwt/miniconda3/envs/interchange-topology/bin/wrapped_progs/antechamber: Fatal Error!\n",
      "Cannot properly run \"/Users/mwt/miniconda3/envs/interchange-topology/bin/sqm -O -i sqm.in -o sqm.out\".\n"
     ]
    },
    {
     "ename": "ValueError",
     "evalue": "No registered toolkits can provide the capability \"assign_partial_charges\" for args \"()\" and kwargs \"{'molecule': Molecule with name 'OCT' and SMILES '[H]c1c(c(c2c(c1Oc3c(c4c(c(c3[H])Oc5c(c(c(c(c5[H])Oc6c(c7c(c(c6[H])Oc8c(c(c(c(c8[H])Oc9c(c1c(c(c9[H])Oc3c(c(c(c(c3[H])Oc3c(c(c(c(c3[H])O2)[H])C2(Oc3c(c5c6c(c3C(c3c(c8c(c(c3O2)[H])OC1(Oc1c(c2c(c(c1C8([H])C([H])([H])C([H])([H])[C-]([O-])[O-])[H])C(c1c(c(c(c(c1OC7(O2)[H])[H])OC4(O5)[H])C6([H])C([H])([H])C([H])([H])[C-]([O-])[O-])[H])([H])C([H])([H])C([H])([H])[C-]([O-])[O-])[H])[H])[H])([H])C([H])([H])C([H])([H])[C-]([O-])[O-])[H])[H])[H])[H])[H])[C-]([O-])[O-])[H])[H])[H])[H])[C-]([O-])[O-])[H])[H])[H])[H])[C-]([O-])[O-])[H])[H])[H])[H])[H])[C-]([O-])[O-]', 'partial_charge_method': 'am1bcc', 'use_conformers': None, 'strict_n_conformers': False, 'normalize_partial_charges': True, '_cls': <class 'openff.toolkit.topology.molecule.Molecule'>}\"\nAvailable toolkits are: [ToolkitWrapper around OpenEye Toolkit version 2021.1.1, ToolkitWrapper around The RDKit version 2021.09.11, ToolkitWrapper around AmberTools version 21.0, ToolkitWrapper around Built-in Toolkit version None]\n ToolkitWrapper around OpenEye Toolkit version 2021.1.1 <class 'openff.toolkit.utils.exceptions.ConformerGenerationError'> : OpenEye Omega conformer generation failed\n ToolkitWrapper around The RDKit version 2021.09.11 <class 'openff.toolkit.utils.exceptions.ChargeMethodUnavailableError'> : partial_charge_method 'am1bcc' is not available from RDKitToolkitWrapper. Available charge methods are ['mmff94'] \n ToolkitWrapper around AmberTools version 21.0 <class 'subprocess.CalledProcessError'> : Command '['antechamber', '-i', 'molecule.sdf', '-fi', 'sdf', '-o', 'charged.mol2', '-fo', 'mol2', '-pf', 'yes', '-dr', 'n', '-c', 'bcc', '-nc', '-24.0']' returned non-zero exit status 1.\n ToolkitWrapper around Built-in Toolkit version None <class 'openff.toolkit.utils.exceptions.ChargeMethodUnavailableError'> : Partial charge method \"am1bcc\"\" is not supported by the Built-in toolkit. Available charge methods are ['zeros', 'formal_charge']\n",
     "output_type": "error",
     "traceback": [
      "\u001b[0;31m---------------------------------------------------------------------------\u001b[0m",
      "\u001b[0;31mValueError\u001b[0m                                Traceback (most recent call last)",
      "\u001b[0;32m/var/folders/2w/dfnzsrm57_730c_n_h0f3psc0000gn/T/ipykernel_84426/3841468500.py\u001b[0m in \u001b[0;36m<module>\u001b[0;34m\u001b[0m\n\u001b[0;32m----> 1\u001b[0;31m \u001b[0mdocked\u001b[0m \u001b[0;34m=\u001b[0m \u001b[0mInterchange\u001b[0m\u001b[0;34m.\u001b[0m\u001b[0mfrom_smirnoff\u001b[0m\u001b[0;34m(\u001b[0m\u001b[0msage\u001b[0m\u001b[0;34m,\u001b[0m \u001b[0mdocked_topology\u001b[0m\u001b[0;34m)\u001b[0m\u001b[0;34m\u001b[0m\u001b[0;34m\u001b[0m\u001b[0m\n\u001b[0m",
      "\u001b[0;32m~/software/openff-system/openff/interchange/components/interchange.py\u001b[0m in \u001b[0;36mfrom_smirnoff\u001b[0;34m(cls, force_field, topology, box)\u001b[0m\n\u001b[1;32m    252\u001b[0m                 \u001b[0;32mcontinue\u001b[0m\u001b[0;34m\u001b[0m\u001b[0;34m\u001b[0m\u001b[0m\n\u001b[1;32m    253\u001b[0m             \u001b[0;32melif\u001b[0m \u001b[0mlen\u001b[0m\u001b[0;34m(\u001b[0m\u001b[0mpotential_handler_type\u001b[0m\u001b[0;34m.\u001b[0m\u001b[0mallowed_parameter_handlers\u001b[0m\u001b[0;34m(\u001b[0m\u001b[0;34m)\u001b[0m\u001b[0;34m)\u001b[0m \u001b[0;34m>\u001b[0m \u001b[0;36m1\u001b[0m\u001b[0;34m:\u001b[0m\u001b[0;34m\u001b[0m\u001b[0;34m\u001b[0m\u001b[0m\n\u001b[0;32m--> 254\u001b[0;31m                 potential_handler = potential_handler_type._from_toolkit(  # type: ignore\n\u001b[0m\u001b[1;32m    255\u001b[0m                     \u001b[0mparameter_handler\u001b[0m\u001b[0;34m=\u001b[0m\u001b[0mparameter_handlers\u001b[0m\u001b[0;34m,\u001b[0m\u001b[0;34m\u001b[0m\u001b[0;34m\u001b[0m\u001b[0m\n\u001b[1;32m    256\u001b[0m                     \u001b[0mtopology\u001b[0m\u001b[0;34m=\u001b[0m\u001b[0mtopology\u001b[0m\u001b[0;34m,\u001b[0m\u001b[0;34m\u001b[0m\u001b[0;34m\u001b[0m\u001b[0m\n",
      "\u001b[0;32m~/software/openff-system/openff/interchange/components/smirnoff.py\u001b[0m in \u001b[0;36m_from_toolkit\u001b[0;34m(cls, parameter_handler, topology)\u001b[0m\n\u001b[1;32m    967\u001b[0m         )\n\u001b[1;32m    968\u001b[0m \u001b[0;34m\u001b[0m\u001b[0m\n\u001b[0;32m--> 969\u001b[0;31m         \u001b[0mhandler\u001b[0m\u001b[0;34m.\u001b[0m\u001b[0mstore_matches\u001b[0m\u001b[0;34m(\u001b[0m\u001b[0mparameter_handlers\u001b[0m\u001b[0;34m,\u001b[0m \u001b[0mtopology\u001b[0m\u001b[0;34m)\u001b[0m\u001b[0;34m\u001b[0m\u001b[0;34m\u001b[0m\u001b[0m\n\u001b[0m\u001b[1;32m    970\u001b[0m \u001b[0;34m\u001b[0m\u001b[0m\n\u001b[1;32m    971\u001b[0m         \u001b[0;32mreturn\u001b[0m \u001b[0mhandler\u001b[0m\u001b[0;34m\u001b[0m\u001b[0;34m\u001b[0m\u001b[0m\n",
      "\u001b[0;32m~/software/openff-system/openff/interchange/components/smirnoff.py\u001b[0m in \u001b[0;36mstore_matches\u001b[0;34m(self, parameter_handler, topology)\u001b[0m\n\u001b[1;32m   1314\u001b[0m \u001b[0;34m\u001b[0m\u001b[0m\n\u001b[1;32m   1315\u001b[0m             \u001b[0;31m# TODO: Rename this method to something like `_find_matches`\u001b[0m\u001b[0;34m\u001b[0m\u001b[0;34m\u001b[0m\u001b[0m\n\u001b[0;32m-> 1316\u001b[0;31m             matches, potentials = self._find_reference_matches(\n\u001b[0m\u001b[1;32m   1317\u001b[0m                 \u001b[0;31m# parameter_handlers, reference_molecule\u001b[0m\u001b[0;34m\u001b[0m\u001b[0;34m\u001b[0m\u001b[0m\n\u001b[1;32m   1318\u001b[0m                 \u001b[0mparameter_handlers\u001b[0m\u001b[0;34m,\u001b[0m\u001b[0;34m\u001b[0m\u001b[0;34m\u001b[0m\u001b[0m\n",
      "\u001b[0;32m~/software/openff-system/openff/interchange/components/smirnoff.py\u001b[0m in \u001b[0;36m_find_reference_matches\u001b[0;34m(cls, parameter_handlers, reference_molecule)\u001b[0m\n\u001b[1;32m   1221\u001b[0m             \u001b[0;32mif\u001b[0m \u001b[0mhandler_type\u001b[0m \u001b[0;32min\u001b[0m \u001b[0;34m[\u001b[0m\u001b[0;34m\"ToolkitAM1BCC\"\u001b[0m\u001b[0;34m,\u001b[0m \u001b[0;34m\"ChargeIncrementModel\"\u001b[0m\u001b[0;34m]\u001b[0m\u001b[0;34m:\u001b[0m\u001b[0;34m\u001b[0m\u001b[0;34m\u001b[0m\u001b[0m\n\u001b[1;32m   1222\u001b[0m \u001b[0;34m\u001b[0m\u001b[0m\n\u001b[0;32m-> 1223\u001b[0;31m                 am1_matches, am1_potentials = cls._find_am1_matches(\n\u001b[0m\u001b[1;32m   1224\u001b[0m                     \u001b[0mparameter_handler\u001b[0m\u001b[0;34m,\u001b[0m \u001b[0mreference_molecule\u001b[0m\u001b[0;34m\u001b[0m\u001b[0;34m\u001b[0m\u001b[0m\n\u001b[1;32m   1225\u001b[0m                 )\n",
      "\u001b[0;32m~/software/openff-system/openff/interchange/components/smirnoff.py\u001b[0m in \u001b[0;36m_find_am1_matches\u001b[0;34m(cls, parameter_handler, reference_molecule)\u001b[0m\n\u001b[1;32m   1170\u001b[0m         \u001b[0mmethod\u001b[0m \u001b[0;34m=\u001b[0m \u001b[0mgetattr\u001b[0m\u001b[0;34m(\u001b[0m\u001b[0mparameter_handler\u001b[0m\u001b[0;34m,\u001b[0m \u001b[0;34m\"partial_charge_method\"\u001b[0m\u001b[0;34m,\u001b[0m \u001b[0;34m\"am1bcc\"\u001b[0m\u001b[0;34m)\u001b[0m\u001b[0;34m\u001b[0m\u001b[0;34m\u001b[0m\u001b[0m\n\u001b[1;32m   1171\u001b[0m \u001b[0;34m\u001b[0m\u001b[0m\n\u001b[0;32m-> 1172\u001b[0;31m         partial_charges = cls._compute_partial_charges(\n\u001b[0m\u001b[1;32m   1173\u001b[0m             \u001b[0mreference_molecule\u001b[0m\u001b[0;34m,\u001b[0m \u001b[0mmethod\u001b[0m\u001b[0;34m=\u001b[0m\u001b[0mmethod\u001b[0m\u001b[0;34m\u001b[0m\u001b[0;34m\u001b[0m\u001b[0m\n\u001b[1;32m   1174\u001b[0m         )\n",
      "\u001b[0;32m~/software/openff-system/openff/interchange/components/smirnoff.py\u001b[0m in \u001b[0;36m_compute_partial_charges\u001b[0;34m(cls, molecule, method)\u001b[0m\n\u001b[1;32m   1050\u001b[0m         \u001b[0;34m\"\"\"Call out to the toolkit's toolkit wrappers to generate partial charges.\"\"\"\u001b[0m\u001b[0;34m\u001b[0m\u001b[0;34m\u001b[0m\u001b[0m\n\u001b[1;32m   1051\u001b[0m         \u001b[0mmolecule\u001b[0m \u001b[0;34m=\u001b[0m \u001b[0mcopy\u001b[0m\u001b[0;34m.\u001b[0m\u001b[0mdeepcopy\u001b[0m\u001b[0;34m(\u001b[0m\u001b[0mmolecule\u001b[0m\u001b[0;34m)\u001b[0m\u001b[0;34m\u001b[0m\u001b[0;34m\u001b[0m\u001b[0m\n\u001b[0;32m-> 1052\u001b[0;31m         \u001b[0mmolecule\u001b[0m\u001b[0;34m.\u001b[0m\u001b[0massign_partial_charges\u001b[0m\u001b[0;34m(\u001b[0m\u001b[0mmethod\u001b[0m\u001b[0;34m)\u001b[0m\u001b[0;34m\u001b[0m\u001b[0;34m\u001b[0m\u001b[0m\n\u001b[0m\u001b[1;32m   1053\u001b[0m \u001b[0;34m\u001b[0m\u001b[0m\n\u001b[1;32m   1054\u001b[0m         \u001b[0;32mreturn\u001b[0m \u001b[0mfrom_openmm\u001b[0m\u001b[0;34m(\u001b[0m\u001b[0mmolecule\u001b[0m\u001b[0;34m.\u001b[0m\u001b[0mpartial_charges\u001b[0m\u001b[0;34m)\u001b[0m\u001b[0;34m\u001b[0m\u001b[0;34m\u001b[0m\u001b[0m\n",
      "\u001b[0;32m~/miniconda3/envs/interchange-topology/lib/python3.9/site-packages/openff/toolkit/topology/molecule.py\u001b[0m in \u001b[0;36massign_partial_charges\u001b[0;34m(self, partial_charge_method, strict_n_conformers, use_conformers, toolkit_registry, normalize_partial_charges)\u001b[0m\n\u001b[1;32m   3630\u001b[0m             \u001b[0;31m# tell the ToolkitRegistry to continue trying ToolkitWrappers\u001b[0m\u001b[0;34m\u001b[0m\u001b[0;34m\u001b[0m\u001b[0m\n\u001b[1;32m   3631\u001b[0m             \u001b[0;31m# if one raises an error (raise_exception_types=[])\u001b[0m\u001b[0;34m\u001b[0m\u001b[0;34m\u001b[0m\u001b[0m\n\u001b[0;32m-> 3632\u001b[0;31m             toolkit_registry.call(\n\u001b[0m\u001b[1;32m   3633\u001b[0m                 \u001b[0;34m\"assign_partial_charges\"\u001b[0m\u001b[0;34m,\u001b[0m\u001b[0;34m\u001b[0m\u001b[0;34m\u001b[0m\u001b[0m\n\u001b[1;32m   3634\u001b[0m                 \u001b[0mmolecule\u001b[0m\u001b[0;34m=\u001b[0m\u001b[0mself\u001b[0m\u001b[0;34m,\u001b[0m\u001b[0;34m\u001b[0m\u001b[0;34m\u001b[0m\u001b[0m\n",
      "\u001b[0;32m~/miniconda3/envs/interchange-topology/lib/python3.9/site-packages/openff/toolkit/utils/toolkit_registry.py\u001b[0m in \u001b[0;36mcall\u001b[0;34m(self, method_name, raise_exception_types, *args, **kwargs)\u001b[0m\n\u001b[1;32m    378\u001b[0m         \u001b[0;32mfor\u001b[0m \u001b[0mtoolkit\u001b[0m\u001b[0;34m,\u001b[0m \u001b[0merror\u001b[0m \u001b[0;32min\u001b[0m \u001b[0merrors\u001b[0m\u001b[0;34m:\u001b[0m\u001b[0;34m\u001b[0m\u001b[0;34m\u001b[0m\u001b[0m\n\u001b[1;32m    379\u001b[0m             \u001b[0mmsg\u001b[0m \u001b[0;34m+=\u001b[0m \u001b[0;34m\" {} {} : {}\\n\"\u001b[0m\u001b[0;34m.\u001b[0m\u001b[0mformat\u001b[0m\u001b[0;34m(\u001b[0m\u001b[0mtoolkit\u001b[0m\u001b[0;34m,\u001b[0m \u001b[0mtype\u001b[0m\u001b[0;34m(\u001b[0m\u001b[0merror\u001b[0m\u001b[0;34m)\u001b[0m\u001b[0;34m,\u001b[0m \u001b[0merror\u001b[0m\u001b[0;34m)\u001b[0m\u001b[0;34m\u001b[0m\u001b[0;34m\u001b[0m\u001b[0m\n\u001b[0;32m--> 380\u001b[0;31m         \u001b[0;32mraise\u001b[0m \u001b[0mValueError\u001b[0m\u001b[0;34m(\u001b[0m\u001b[0mmsg\u001b[0m\u001b[0;34m)\u001b[0m\u001b[0;34m\u001b[0m\u001b[0;34m\u001b[0m\u001b[0m\n\u001b[0m\u001b[1;32m    381\u001b[0m \u001b[0;34m\u001b[0m\u001b[0m\n\u001b[1;32m    382\u001b[0m     \u001b[0;32mdef\u001b[0m \u001b[0m__repr__\u001b[0m\u001b[0;34m(\u001b[0m\u001b[0mself\u001b[0m\u001b[0;34m)\u001b[0m\u001b[0;34m:\u001b[0m\u001b[0;34m\u001b[0m\u001b[0;34m\u001b[0m\u001b[0m\n",
      "\u001b[0;31mValueError\u001b[0m: No registered toolkits can provide the capability \"assign_partial_charges\" for args \"()\" and kwargs \"{'molecule': Molecule with name 'OCT' and SMILES '[H]c1c(c(c2c(c1Oc3c(c4c(c(c3[H])Oc5c(c(c(c(c5[H])Oc6c(c7c(c(c6[H])Oc8c(c(c(c(c8[H])Oc9c(c1c(c(c9[H])Oc3c(c(c(c(c3[H])Oc3c(c(c(c(c3[H])O2)[H])C2(Oc3c(c5c6c(c3C(c3c(c8c(c(c3O2)[H])OC1(Oc1c(c2c(c(c1C8([H])C([H])([H])C([H])([H])[C-]([O-])[O-])[H])C(c1c(c(c(c(c1OC7(O2)[H])[H])OC4(O5)[H])C6([H])C([H])([H])C([H])([H])[C-]([O-])[O-])[H])([H])C([H])([H])C([H])([H])[C-]([O-])[O-])[H])[H])[H])([H])C([H])([H])C([H])([H])[C-]([O-])[O-])[H])[H])[H])[H])[H])[C-]([O-])[O-])[H])[H])[H])[H])[C-]([O-])[O-])[H])[H])[H])[H])[C-]([O-])[O-])[H])[H])[H])[H])[H])[C-]([O-])[O-]', 'partial_charge_method': 'am1bcc', 'use_conformers': None, 'strict_n_conformers': False, 'normalize_partial_charges': True, '_cls': <class 'openff.toolkit.topology.molecule.Molecule'>}\"\nAvailable toolkits are: [ToolkitWrapper around OpenEye Toolkit version 2021.1.1, ToolkitWrapper around The RDKit version 2021.09.11, ToolkitWrapper around AmberTools version 21.0, ToolkitWrapper around Built-in Toolkit version None]\n ToolkitWrapper around OpenEye Toolkit version 2021.1.1 <class 'openff.toolkit.utils.exceptions.ConformerGenerationError'> : OpenEye Omega conformer generation failed\n ToolkitWrapper around The RDKit version 2021.09.11 <class 'openff.toolkit.utils.exceptions.ChargeMethodUnavailableError'> : partial_charge_method 'am1bcc' is not available from RDKitToolkitWrapper. Available charge methods are ['mmff94'] \n ToolkitWrapper around AmberTools version 21.0 <class 'subprocess.CalledProcessError'> : Command '['antechamber', '-i', 'molecule.sdf', '-fi', 'sdf', '-o', 'charged.mol2', '-fo', 'mol2', '-pf', 'yes', '-dr', 'n', '-c', 'bcc', '-nc', '-24.0']' returned non-zero exit status 1.\n ToolkitWrapper around Built-in Toolkit version None <class 'openff.toolkit.utils.exceptions.ChargeMethodUnavailableError'> : Partial charge method \"am1bcc\"\" is not supported by the Built-in toolkit. Available charge methods are ['zeros', 'formal_charge']\n"
     ]
    }
   ],
   "source": [
    "docked = Interchange.from_smirnoff(sage, docked_topology)"
   ]
  }
 ],
 "metadata": {
  "kernelspec": {
   "display_name": "Python 3 (ipykernel)",
   "language": "python",
   "name": "python3"
  },
  "language_info": {
   "codemirror_mode": {
    "name": "ipython",
    "version": 3
   },
   "file_extension": ".py",
   "mimetype": "text/x-python",
   "name": "python",
   "nbconvert_exporter": "python",
   "pygments_lexer": "ipython3",
   "version": "3.9.7"
  }
 },
 "nbformat": 4,
 "nbformat_minor": 5
}
