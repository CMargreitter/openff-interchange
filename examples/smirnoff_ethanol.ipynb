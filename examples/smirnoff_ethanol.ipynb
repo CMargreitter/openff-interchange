{
 "cells": [
  {
   "cell_type": "code",
   "execution_count": 1,
   "metadata": {},
   "outputs": [],
   "source": [
    "import numpy as np\n",
    "\n",
    "from openforcefield.typing.engines.smirnoff import ForceField\n",
    "from openforcefield.topology.molecule import Molecule\n",
    "from openforcefield.topology.topology import Topology\n",
    "\n",
    "from system.typing.smirnoff import *\n",
    "from system.system import System"
   ]
  },
  {
   "cell_type": "code",
   "execution_count": 2,
   "metadata": {},
   "outputs": [],
   "source": [
    "# Load in a mainline OpenFF forcefield and construct a minimal ethanol topology\n",
    "parsley = ForceField('openff-1.0.0.offxml')\n",
    "\n",
    "top =  Topology.from_molecules(Molecule.from_smiles('CCO'))"
   ]
  },
  {
   "cell_type": "code",
   "execution_count": 3,
   "metadata": {},
   "outputs": [
    {
     "data": {
      "text/plain": [
       "{'Constraints': {(0, 3): '[#1:1]-[*:2]',\n",
       "  (0, 4): '[#1:1]-[*:2]',\n",
       "  (0, 5): '[#1:1]-[*:2]',\n",
       "  (1, 6): '[#1:1]-[*:2]',\n",
       "  (1, 7): '[#1:1]-[*:2]',\n",
       "  (2, 8): '[#1:1]-[*:2]'},\n",
       " 'Bonds': {(0, 1): '[#6X4:1]-[#6X4:2]',\n",
       "  (0, 3): '[#6X4:1]-[#1:2]',\n",
       "  (0, 4): '[#6X4:1]-[#1:2]',\n",
       "  (0, 5): '[#6X4:1]-[#1:2]',\n",
       "  (1, 2): '[#6:1]-[#8:2]',\n",
       "  (1, 6): '[#6X4:1]-[#1:2]',\n",
       "  (1, 7): '[#6X4:1]-[#1:2]',\n",
       "  (2, 8): '[#8:1]-[#1:2]'},\n",
       " 'Angles': {(0, 1, 2): '[*:1]~[#6X4:2]-[*:3]',\n",
       "  (0, 1, 6): '[*:1]~[#6X4:2]-[*:3]',\n",
       "  (0, 1, 7): '[*:1]~[#6X4:2]-[*:3]',\n",
       "  (1, 0, 3): '[*:1]~[#6X4:2]-[*:3]',\n",
       "  (1, 0, 4): '[*:1]~[#6X4:2]-[*:3]',\n",
       "  (1, 0, 5): '[*:1]~[#6X4:2]-[*:3]',\n",
       "  (1, 2, 8): '[*:1]-[#8:2]-[*:3]',\n",
       "  (2, 1, 6): '[*:1]~[#6X4:2]-[*:3]',\n",
       "  (2, 1, 7): '[*:1]~[#6X4:2]-[*:3]',\n",
       "  (3, 0, 4): '[#1:1]-[#6X4:2]-[#1:3]',\n",
       "  (3, 0, 5): '[#1:1]-[#6X4:2]-[#1:3]',\n",
       "  (4, 0, 5): '[#1:1]-[#6X4:2]-[#1:3]',\n",
       "  (6, 1, 7): '[#1:1]-[#6X4:2]-[#1:3]'},\n",
       " 'ProperTorsions': {(0, 1, 2, 8): '[#6X4:1]-[#6X4:2]-[#8X2H1:3]-[#1:4]',\n",
       "  (2, 1, 0, 3): '[#1:1]-[#6X4:2]-[#6X4:3]-[#8X2:4]',\n",
       "  (2, 1, 0, 4): '[#1:1]-[#6X4:2]-[#6X4:3]-[#8X2:4]',\n",
       "  (2, 1, 0, 5): '[#1:1]-[#6X4:2]-[#6X4:3]-[#8X2:4]',\n",
       "  (3, 0, 1, 6): '[#1:1]-[#6X4:2]-[#6X4:3]-[#1:4]',\n",
       "  (3, 0, 1, 7): '[#1:1]-[#6X4:2]-[#6X4:3]-[#1:4]',\n",
       "  (4, 0, 1, 6): '[#1:1]-[#6X4:2]-[#6X4:3]-[#1:4]',\n",
       "  (4, 0, 1, 7): '[#1:1]-[#6X4:2]-[#6X4:3]-[#1:4]',\n",
       "  (5, 0, 1, 6): '[#1:1]-[#6X4:2]-[#6X4:3]-[#1:4]',\n",
       "  (5, 0, 1, 7): '[#1:1]-[#6X4:2]-[#6X4:3]-[#1:4]',\n",
       "  (6, 1, 2, 8): '[*:1]-[#6X4:2]-[#8X2:3]-[#1:4]',\n",
       "  (7, 1, 2, 8): '[*:1]-[#6X4:2]-[#8X2:3]-[#1:4]'},\n",
       " 'ImproperTorsions': {},\n",
       " 'vdW': {(0,): '[#6X4:1]',\n",
       "  (1,): '[#6X4:1]',\n",
       "  (2,): '[#8X2H1+0:1]',\n",
       "  (3,): '[#1:1]-[#6X4]',\n",
       "  (4,): '[#1:1]-[#6X4]',\n",
       "  (5,): '[#1:1]-[#6X4]',\n",
       "  (6,): '[#1:1]-[#6X4]-[#7,#8,#9,#16,#17,#35]',\n",
       "  (7,): '[#1:1]-[#6X4]-[#7,#8,#9,#16,#17,#35]',\n",
       "  (8,): '[#1:1]-[#8]'},\n",
       " 'Electrostatics': {},\n",
       " 'ToolkitAM1BCC': {}}"
      ]
     },
     "execution_count": 3,
     "metadata": {},
     "output_type": "execute_result"
    }
   ],
   "source": [
    "# Generate a (partial) mapping of topology slots and SMIRNOFF SMIRKS\n",
    "slot_smirks_map = build_slot_smirks_map(forcefield=parsley, topology=top)\n",
    "\n",
    "slot_smirks_map"
   ]
  },
  {
   "cell_type": "code",
   "execution_count": 4,
   "metadata": {},
   "outputs": [
    {
     "ename": "NameError",
     "evalue": "name 'smirks_map' is not defined",
     "output_type": "error",
     "traceback": [
      "\u001b[0;31m---------------------------------------------------------------------------\u001b[0m",
      "\u001b[0;31mNameError\u001b[0m                                 Traceback (most recent call last)",
      "\u001b[0;32m<ipython-input-4-a5be679b68b6>\u001b[0m in \u001b[0;36m<module>\u001b[0;34m\u001b[0m\n\u001b[1;32m      1\u001b[0m \u001b[0;31m# This is not efficient at the moment, will take a minute or so to run\u001b[0m\u001b[0;34m\u001b[0m\u001b[0;34m\u001b[0m\u001b[0;34m\u001b[0m\u001b[0m\n\u001b[0;32m----> 2\u001b[0;31m \u001b[0msmirks_potential_map\u001b[0m \u001b[0;34m=\u001b[0m \u001b[0mbuild_smirks_potential_map\u001b[0m\u001b[0;34m(\u001b[0m\u001b[0mforcefield\u001b[0m\u001b[0;34m=\u001b[0m\u001b[0mparsley\u001b[0m\u001b[0;34m,\u001b[0m \u001b[0msmirks_map\u001b[0m\u001b[0;34m=\u001b[0m\u001b[0msmirks_map\u001b[0m\u001b[0;34m)\u001b[0m\u001b[0;34m\u001b[0m\u001b[0;34m\u001b[0m\u001b[0m\n\u001b[0m",
      "\u001b[0;31mNameError\u001b[0m: name 'smirks_map' is not defined"
     ]
    }
   ],
   "source": [
    "# This is not efficient at the moment, will take a minute or so to run\n",
    "smirks_potential_map = build_smirks_potential_map(forcefield=parsley, smirks_map=smirks_map)"
   ]
  },
  {
   "cell_type": "code",
   "execution_count": null,
   "metadata": {},
   "outputs": [],
   "source": [
    "# This is like the smirnoff_collection in the other notebook, but encompasses more parameters\n",
    "# (all vdW and bond parameters in the force field). You can inspect, for example, the list\n",
    "# of all SMIRKS patterns of bonds\n",
    "smirks_potential_map['Bonds'].keys()"
   ]
  },
  {
   "cell_type": "code",
   "execution_count": null,
   "metadata": {},
   "outputs": [],
   "source": [
    "# Or look up a specific parameter within a particlar bond\n",
    "smirks_potential_map['Bonds']['[#6X4:1]-[#1:2]'].parameters['k']"
   ]
  },
  {
   "cell_type": "code",
   "execution_count": null,
   "metadata": {},
   "outputs": [],
   "source": [
    "# TODO: Deal with case of system only partially being built up\n",
    "# Can build up a system object using the data we have\n",
    "ethanol_system = System(\n",
    "    forcefield=parsley,\n",
    "    topology=top,\n",
    "    positions=np.zeros(shape=(top.n_topology_atoms, 3)),\n",
    "    box=np.zeros((3, 3)),\n",
    ")"
   ]
  },
  {
   "cell_type": "code",
   "execution_count": null,
   "metadata": {},
   "outputs": [],
   "source": [
    "# And using the SMIRKS map (which should be merged into the System at some point), we can\n",
    "# find the SMIRKS that was assigned to an arbitrary bond, say index 4\n",
    "bond_key = tuple([a.topology_atom_index for a in ethanol_system.topology.bond(4).atoms])\n",
    "smirks_map['Bonds'][bond_key]"
   ]
  },
  {
   "cell_type": "code",
   "execution_count": null,
   "metadata": {},
   "outputs": [],
   "source": [
    "# And then using that SMIRKS as a \"key\", we can look up its associated potential\n",
    "ethanol_system.potential_collection['Bonds'][smirks_map['Bonds'][bond_key]]"
   ]
  },
  {
   "cell_type": "code",
   "execution_count": null,
   "metadata": {},
   "outputs": [],
   "source": [
    "ethanol_system.potential_collection"
   ]
  }
 ],
 "metadata": {
  "kernelspec": {
   "display_name": "Python 3",
   "language": "python",
   "name": "python3"
  },
  "language_info": {
   "codemirror_mode": {
    "name": "ipython",
    "version": 3
   },
   "file_extension": ".py",
   "mimetype": "text/x-python",
   "name": "python",
   "nbconvert_exporter": "python",
   "pygments_lexer": "ipython3",
   "version": "3.7.6"
  }
 },
 "nbformat": 4,
 "nbformat_minor": 4
}
