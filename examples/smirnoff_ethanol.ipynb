{
 "cells": [
  {
   "cell_type": "code",
   "execution_count": 5,
   "metadata": {},
   "outputs": [],
   "source": [
    "from openforcefield.typing.engines.smirnoff import ForceField\n",
    "from openforcefield.topology.molecule import Molecule\n",
    "from openforcefield.topology.topology import Topology\n",
    "\n",
    "from system.typing.smirnoff import build_smirnoff_map, build_smirnoff_collection\n",
    "from system.collections import PotentialHandler, PotentialCollection\n",
    "from system.system import System\n",
    "from system.utils import get_test_file_path"
   ]
  },
  {
   "cell_type": "code",
   "execution_count": 6,
   "metadata": {},
   "outputs": [],
   "source": [
    "# Load in a mainline OpenFF forcefield and construct a minimal ethanol topology\n",
    "parsley = ForceField('openff-1.0.0.offxml')\n",
    "\n",
    "top =  Topology.from_molecules(Molecule.from_smiles('CCO'))"
   ]
  },
  {
   "cell_type": "code",
   "execution_count": 7,
   "metadata": {},
   "outputs": [
    {
     "data": {
      "text/plain": [
       "{'vdW': {(0,): '[#6X4:1]',\n",
       "  (1,): '[#6X4:1]',\n",
       "  (2,): '[#8X2H1+0:1]',\n",
       "  (3,): '[#1:1]-[#6X4]',\n",
       "  (4,): '[#1:1]-[#6X4]',\n",
       "  (5,): '[#1:1]-[#6X4]',\n",
       "  (6,): '[#1:1]-[#6X4]-[#7,#8,#9,#16,#17,#35]',\n",
       "  (7,): '[#1:1]-[#6X4]-[#7,#8,#9,#16,#17,#35]',\n",
       "  (8,): '[#1:1]-[#8]'},\n",
       " 'Bonds': {(0, 1): '[#6X4:1]-[#6X4:2]',\n",
       "  (0, 3): '[#6X4:1]-[#1:2]',\n",
       "  (0, 4): '[#6X4:1]-[#1:2]',\n",
       "  (0, 5): '[#6X4:1]-[#1:2]',\n",
       "  (1, 2): '[#6:1]-[#8:2]',\n",
       "  (1, 6): '[#6X4:1]-[#1:2]',\n",
       "  (1, 7): '[#6X4:1]-[#1:2]',\n",
       "  (2, 8): '[#8:1]-[#1:2]'}}"
      ]
     },
     "execution_count": 7,
     "metadata": {},
     "output_type": "execute_result"
    }
   ],
   "source": [
    "# Generate a (partial) mapping of topology slots and SMIRNOFF SMIRKS\n",
    "smirks_map = build_smirnoff_map(forcefield=parsley, topology=top)\n",
    "\n",
    "smirks_map"
   ]
  },
  {
   "cell_type": "code",
   "execution_count": 8,
   "metadata": {},
   "outputs": [
    {
     "name": "stdout",
     "output_type": "stream",
     "text": [
      "> /Users/mwt/software/openff-system/system/typing/smirnoff.py(76)add_handler()\n",
      "-> name=param.id,\n",
      "(Pdb) c\n"
     ]
    },
    {
     "ename": "ValidationError",
     "evalue": "1 validation error for ParametrizedAnalyticalPotential\nparameters\n   (type=assertion_error)",
     "output_type": "error",
     "traceback": [
      "\u001b[0;31m---------------------------------------------------------------------------\u001b[0m",
      "\u001b[0;31mValidationError\u001b[0m                           Traceback (most recent call last)",
      "\u001b[0;32m<ipython-input-8-66d30b84a3cd>\u001b[0m in \u001b[0;36m<module>\u001b[0;34m\u001b[0m\n\u001b[0;32m----> 1\u001b[0;31m \u001b[0msmirnoff_collection\u001b[0m \u001b[0;34m=\u001b[0m \u001b[0mbuild_smirnoff_collection\u001b[0m\u001b[0;34m(\u001b[0m\u001b[0mforcefield\u001b[0m\u001b[0;34m=\u001b[0m\u001b[0mparsley\u001b[0m\u001b[0;34m)\u001b[0m\u001b[0;34m\u001b[0m\u001b[0;34m\u001b[0m\u001b[0m\n\u001b[0m",
      "\u001b[0;32m~/software/openff-system/system/typing/smirnoff.py\u001b[0m in \u001b[0;36mbuild_smirnoff_collection\u001b[0;34m(forcefield)\u001b[0m\n\u001b[1;32m    105\u001b[0m     \u001b[0;32mfor\u001b[0m \u001b[0mhandler\u001b[0m \u001b[0;32min\u001b[0m \u001b[0mhandlers\u001b[0m\u001b[0;34m:\u001b[0m\u001b[0;34m\u001b[0m\u001b[0;34m\u001b[0m\u001b[0m\n\u001b[1;32m    106\u001b[0m         \u001b[0madd_handler\u001b[0m\u001b[0;34m(\u001b[0m\u001b[0mforcefield\u001b[0m\u001b[0;34m,\u001b[0m \u001b[0msmirnoff_collection\u001b[0m\u001b[0;34m,\u001b[0m \u001b[0mhandler\u001b[0m\u001b[0;34m)\u001b[0m\u001b[0;34m\u001b[0m\u001b[0;34m\u001b[0m\u001b[0m\n\u001b[0;32m--> 107\u001b[0;31m \u001b[0;34m\u001b[0m\u001b[0m\n\u001b[0m\u001b[1;32m    108\u001b[0m     \u001b[0;32mreturn\u001b[0m \u001b[0msmirnoff_collection\u001b[0m\u001b[0;34m\u001b[0m\u001b[0;34m\u001b[0m\u001b[0m\n\u001b[1;32m    109\u001b[0m \u001b[0;34m\u001b[0m\u001b[0m\n",
      "\u001b[0;32m~/software/openff-system/system/typing/smirnoff.py\u001b[0m in \u001b[0;36madd_handler\u001b[0;34m(forcefield, potential_collection, handler_name)\u001b[0m\n\u001b[1;32m     74\u001b[0m \u001b[0;34m\u001b[0m\u001b[0m\n\u001b[1;32m     75\u001b[0m             potential = Potential(\n\u001b[0;32m---> 76\u001b[0;31m                 \u001b[0mname\u001b[0m\u001b[0;34m=\u001b[0m\u001b[0mparam\u001b[0m\u001b[0;34m.\u001b[0m\u001b[0mid\u001b[0m\u001b[0;34m,\u001b[0m\u001b[0;34m\u001b[0m\u001b[0;34m\u001b[0m\u001b[0m\n\u001b[0m\u001b[1;32m     77\u001b[0m                 \u001b[0msmirks\u001b[0m\u001b[0;34m=\u001b[0m\u001b[0mparam\u001b[0m\u001b[0;34m.\u001b[0m\u001b[0msmirks\u001b[0m\u001b[0;34m,\u001b[0m\u001b[0;34m\u001b[0m\u001b[0;34m\u001b[0m\u001b[0m\n\u001b[1;32m     78\u001b[0m                 \u001b[0mexpression\u001b[0m\u001b[0;34m=\u001b[0m\u001b[0;34m'1/2*k(length-length_0)**2'\u001b[0m\u001b[0;34m,\u001b[0m\u001b[0;34m\u001b[0m\u001b[0;34m\u001b[0m\u001b[0m\n",
      "\u001b[0;32m~/software/miniconda3/envs/openff-system/lib/python3.7/site-packages/pydantic/main.cpython-37m-darwin.so\u001b[0m in \u001b[0;36mpydantic.main.BaseModel.__init__\u001b[0;34m()\u001b[0m\n",
      "\u001b[0;31mValidationError\u001b[0m: 1 validation error for ParametrizedAnalyticalPotential\nparameters\n   (type=assertion_error)"
     ]
    }
   ],
   "source": [
    "smirnoff_collection = build_smirnoff_collection(forcefield=parsley)"
   ]
  },
  {
   "cell_type": "code",
   "execution_count": 6,
   "metadata": {},
   "outputs": [
    {
     "ename": "NameError",
     "evalue": "name 'smirnoff_collection' is not defined",
     "output_type": "error",
     "traceback": [
      "\u001b[0;31m---------------------------------------------------------------------------\u001b[0m",
      "\u001b[0;31mNameError\u001b[0m                                 Traceback (most recent call last)",
      "\u001b[0;32m<ipython-input-6-ceb5668a6710>\u001b[0m in \u001b[0;36m<module>\u001b[0;34m\u001b[0m\n\u001b[1;32m      1\u001b[0m ethanol_system = System(\n\u001b[0;32m----> 2\u001b[0;31m     \u001b[0mpotential_collection\u001b[0m\u001b[0;34m=\u001b[0m\u001b[0msmirnoff_collection\u001b[0m\u001b[0;34m,\u001b[0m\u001b[0;34m\u001b[0m\u001b[0;34m\u001b[0m\u001b[0m\n\u001b[0m\u001b[1;32m      3\u001b[0m     \u001b[0mtopology\u001b[0m\u001b[0;34m=\u001b[0m\u001b[0mtop\u001b[0m\u001b[0;34m,\u001b[0m\u001b[0;34m\u001b[0m\u001b[0;34m\u001b[0m\u001b[0m\n\u001b[1;32m      4\u001b[0m )\n",
      "\u001b[0;31mNameError\u001b[0m: name 'smirnoff_collection' is not defined"
     ]
    }
   ],
   "source": [
    "ethanol_system = System(\n",
    "    potential_collection=smirnoff_collection,\n",
    "    topology=top,\n",
    ")"
   ]
  }
 ],
 "metadata": {
  "kernelspec": {
   "display_name": "Python 3",
   "language": "python",
   "name": "python3"
  },
  "language_info": {
   "codemirror_mode": {
    "name": "ipython",
    "version": 3
   },
   "file_extension": ".py",
   "mimetype": "text/x-python",
   "name": "python",
   "nbconvert_exporter": "python",
   "pygments_lexer": "ipython3",
   "version": "3.7.6"
  }
 },
 "nbformat": 4,
 "nbformat_minor": 4
}
