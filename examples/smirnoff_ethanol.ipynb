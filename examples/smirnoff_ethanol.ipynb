{
 "cells": [
  {
   "cell_type": "code",
   "execution_count": 1,
   "metadata": {},
   "outputs": [],
   "source": [
    "import numpy as np\n",
    "\n",
    "from openforcefield.typing.engines.smirnoff import ForceField\n",
    "from openforcefield.topology.molecule import Molecule\n",
    "from openforcefield.topology.topology import Topology\n",
    "\n",
    "from system.typing.smirnoff import build_smirnoff_map, build_smirnoff_collection\n",
    "from system.system import System"
   ]
  },
  {
   "cell_type": "code",
   "execution_count": 2,
   "metadata": {},
   "outputs": [],
   "source": [
    "# Load in a mainline OpenFF forcefield and construct a minimal ethanol topology\n",
    "parsley = ForceField('openff-1.0.0.offxml')\n",
    "\n",
    "top =  Topology.from_molecules(Molecule.from_smiles('CCO'))"
   ]
  },
  {
   "cell_type": "code",
   "execution_count": 3,
   "metadata": {},
   "outputs": [
    {
     "data": {
      "text/plain": [
       "{'Constraints': {(0, 3): '[#1:1]-[*:2]',\n",
       "  (0, 4): '[#1:1]-[*:2]',\n",
       "  (0, 5): '[#1:1]-[*:2]',\n",
       "  (1, 6): '[#1:1]-[*:2]',\n",
       "  (1, 7): '[#1:1]-[*:2]',\n",
       "  (2, 8): '[#1:1]-[*:2]'},\n",
       " 'Bonds': {(0, 1): '[#6X4:1]-[#6X4:2]',\n",
       "  (0, 3): '[#6X4:1]-[#1:2]',\n",
       "  (0, 4): '[#6X4:1]-[#1:2]',\n",
       "  (0, 5): '[#6X4:1]-[#1:2]',\n",
       "  (1, 2): '[#6:1]-[#8:2]',\n",
       "  (1, 6): '[#6X4:1]-[#1:2]',\n",
       "  (1, 7): '[#6X4:1]-[#1:2]',\n",
       "  (2, 8): '[#8:1]-[#1:2]'},\n",
       " 'Angles': {(0, 1, 2): '[*:1]~[#6X4:2]-[*:3]',\n",
       "  (0, 1, 6): '[*:1]~[#6X4:2]-[*:3]',\n",
       "  (0, 1, 7): '[*:1]~[#6X4:2]-[*:3]',\n",
       "  (1, 0, 3): '[*:1]~[#6X4:2]-[*:3]',\n",
       "  (1, 0, 4): '[*:1]~[#6X4:2]-[*:3]',\n",
       "  (1, 0, 5): '[*:1]~[#6X4:2]-[*:3]',\n",
       "  (1, 2, 8): '[*:1]-[#8:2]-[*:3]',\n",
       "  (2, 1, 6): '[*:1]~[#6X4:2]-[*:3]',\n",
       "  (2, 1, 7): '[*:1]~[#6X4:2]-[*:3]',\n",
       "  (3, 0, 4): '[#1:1]-[#6X4:2]-[#1:3]',\n",
       "  (3, 0, 5): '[#1:1]-[#6X4:2]-[#1:3]',\n",
       "  (4, 0, 5): '[#1:1]-[#6X4:2]-[#1:3]',\n",
       "  (6, 1, 7): '[#1:1]-[#6X4:2]-[#1:3]'},\n",
       " 'ProperTorsions': {(0, 1, 2, 8): '[#6X4:1]-[#6X4:2]-[#8X2H1:3]-[#1:4]',\n",
       "  (2, 1, 0, 3): '[#1:1]-[#6X4:2]-[#6X4:3]-[#8X2:4]',\n",
       "  (2, 1, 0, 4): '[#1:1]-[#6X4:2]-[#6X4:3]-[#8X2:4]',\n",
       "  (2, 1, 0, 5): '[#1:1]-[#6X4:2]-[#6X4:3]-[#8X2:4]',\n",
       "  (3, 0, 1, 6): '[#1:1]-[#6X4:2]-[#6X4:3]-[#1:4]',\n",
       "  (3, 0, 1, 7): '[#1:1]-[#6X4:2]-[#6X4:3]-[#1:4]',\n",
       "  (4, 0, 1, 6): '[#1:1]-[#6X4:2]-[#6X4:3]-[#1:4]',\n",
       "  (4, 0, 1, 7): '[#1:1]-[#6X4:2]-[#6X4:3]-[#1:4]',\n",
       "  (5, 0, 1, 6): '[#1:1]-[#6X4:2]-[#6X4:3]-[#1:4]',\n",
       "  (5, 0, 1, 7): '[#1:1]-[#6X4:2]-[#6X4:3]-[#1:4]',\n",
       "  (6, 1, 2, 8): '[*:1]-[#6X4:2]-[#8X2:3]-[#1:4]',\n",
       "  (7, 1, 2, 8): '[*:1]-[#6X4:2]-[#8X2:3]-[#1:4]'},\n",
       " 'ImproperTorsions': {},\n",
       " 'vdW': {(0,): '[#6X4:1]',\n",
       "  (1,): '[#6X4:1]',\n",
       "  (2,): '[#8X2H1+0:1]',\n",
       "  (3,): '[#1:1]-[#6X4]',\n",
       "  (4,): '[#1:1]-[#6X4]',\n",
       "  (5,): '[#1:1]-[#6X4]',\n",
       "  (6,): '[#1:1]-[#6X4]-[#7,#8,#9,#16,#17,#35]',\n",
       "  (7,): '[#1:1]-[#6X4]-[#7,#8,#9,#16,#17,#35]',\n",
       "  (8,): '[#1:1]-[#8]'},\n",
       " 'Electrostatics': {},\n",
       " 'ToolkitAM1BCC': {}}"
      ]
     },
     "execution_count": 3,
     "metadata": {},
     "output_type": "execute_result"
    }
   ],
   "source": [
    "# Generate a (partial) mapping of topology slots and SMIRNOFF SMIRKS\n",
    "smirks_map = build_smirnoff_map(forcefield=parsley, topology=top)\n",
    "\n",
    "smirks_map"
   ]
  },
  {
   "cell_type": "code",
   "execution_count": 4,
   "metadata": {},
   "outputs": [],
   "source": [
    "# This is not efficient at the moment, will take a minute or so to run\n",
    "smirnoff_collection = build_smirnoff_collection(forcefield=parsley, smirks_map=smirks_map)"
   ]
  },
  {
   "cell_type": "code",
   "execution_count": 5,
   "metadata": {},
   "outputs": [
    {
     "data": {
      "text/plain": [
       "dict_keys(['[#6X4:1]-[#6X4:2]', '[#6:1]-[#8:2]', '[#6X4:1]-[#1:2]', '[#8:1]-[#1:2]'])"
      ]
     },
     "execution_count": 5,
     "metadata": {},
     "output_type": "execute_result"
    }
   ],
   "source": [
    "# This is like the smirnoff_collection in the other notebook, but encompasses more parameters\n",
    "# (all vdW and bond parameters in the force field). You can inspect, for example, the list\n",
    "# of all SMIRKS patterns of bonds\n",
    "smirnoff_collection.handlers['Bonds'].potentials.keys()"
   ]
  },
  {
   "cell_type": "code",
   "execution_count": 6,
   "metadata": {},
   "outputs": [
    {
     "data": {
      "text/html": [
       "\\[758.0931772913\\ kilocalorie/(angstrom^2\\ mole)\\]"
      ],
      "text/latex": [
       "$758.0931772913\\ \\frac{\\mathrm{kilocalorie}}{\\left(\\mathrm{angstrom}^{2} \\cdot \\mathrm{mole}\\right)}$"
      ],
      "text/plain": [
       "758.0931772913 <Unit('kilocalorie / angstrom ** 2 / mole')>"
      ]
     },
     "execution_count": 6,
     "metadata": {},
     "output_type": "execute_result"
    }
   ],
   "source": [
    "# Or look up a specific parameter within a particlar bond\n",
    "smirnoff_collection.handlers['Bonds'].potentials['[#6X4:1]-[#1:2]'].parameters['k']"
   ]
  },
  {
   "cell_type": "code",
   "execution_count": 7,
   "metadata": {},
   "outputs": [
    {
     "name": "stderr",
     "output_type": "stream",
     "text": [
      "/Users/mwt/software/miniconda3/envs/openff-system/lib/python3.7/site-packages/numpy/core/_asarray.py:85: UnitStrippedWarning: The unit of the quantity is stripped when downcasting to ndarray.\n",
      "  return array(a, dtype, copy=False, order=order)\n"
     ]
    }
   ],
   "source": [
    "# Can build up a system object using the data we have\n",
    "ethanol_system = System(\n",
    "    potential_collection=smirnoff_collection,\n",
    "    potential_map=smirks_map,\n",
    "    topology=top,\n",
    "    positions=np.zeros(shape=(top.n_topology_atoms, 3)),\n",
    "    box=np.zeros((3, 3)),\n",
    ")"
   ]
  },
  {
   "cell_type": "code",
   "execution_count": 8,
   "metadata": {},
   "outputs": [
    {
     "data": {
      "text/plain": [
       "'[#6X4:1]-[#1:2]'"
      ]
     },
     "execution_count": 8,
     "metadata": {},
     "output_type": "execute_result"
    }
   ],
   "source": [
    "# And using the SMIRKS map (which should be merged into the System at some point), we can\n",
    "# find the SMIRKS that was assigned to an arbitrary bond, say index 4\n",
    "bond_key = tuple([a.topology_atom_index for a in ethanol_system.topology.bond(4).atoms])\n",
    "smirks_map['Bonds'][bond_key]"
   ]
  },
  {
   "cell_type": "code",
   "execution_count": 9,
   "metadata": {},
   "outputs": [
    {
     "data": {
      "text/plain": [
       "ParametrizedAnalyticalPotential(name='b83', smirks='[#6X4:1]-[#1:2]', expression='1/2*k*(length-length_0)**2', independent_variables={'length_0'}, parameters={'k': <Quantity(758.0931772913, 'kilocalorie / angstrom ** 2 / mole')>, 'length': <Quantity(1.092888378383, 'angstrom')>})"
      ]
     },
     "execution_count": 9,
     "metadata": {},
     "output_type": "execute_result"
    }
   ],
   "source": [
    "# And then using that SMIRKS as a \"key\", we can look up its associated potential\n",
    "ethanol_system.potential_collection['Bonds'].potentials[smirks_map['Bonds'][bond_key]]"
   ]
  }
 ],
 "metadata": {
  "kernelspec": {
   "display_name": "Python 3",
   "language": "python",
   "name": "python3"
  },
  "language_info": {
   "codemirror_mode": {
    "name": "ipython",
    "version": 3
   },
   "file_extension": ".py",
   "mimetype": "text/x-python",
   "name": "python",
   "nbconvert_exporter": "python",
   "pygments_lexer": "ipython3",
   "version": "3.7.6"
  }
 },
 "nbformat": 4,
 "nbformat_minor": 4
}
