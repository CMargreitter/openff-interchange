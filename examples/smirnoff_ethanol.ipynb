{
 "cells": [
  {
   "cell_type": "code",
   "execution_count": 1,
   "metadata": {},
   "outputs": [
    {
     "data": {
      "application/vnd.jupyter.widget-view+json": {
       "model_id": "557f2b35d23349c4989e0737e85cdb77",
       "version_major": 2,
       "version_minor": 0
      },
      "text/plain": []
     },
     "metadata": {},
     "output_type": "display_data"
    }
   ],
   "source": [
    "import numpy as np\n",
    "\n",
    "from openforcefield.topology import Molecule, Topology\n",
    "\n",
    "from openff.system.stubs import ForceField\n",
    "from openff.system.utils import get_test_file_path"
   ]
  },
  {
   "cell_type": "code",
   "execution_count": 11,
   "metadata": {},
   "outputs": [],
   "source": [
    "# Load in a mainline OpenFF forcefield and construct a minimal ethanol topology\n",
    "parsley = ForceField('openff-1.0.0.offxml')\n",
    "\n",
    "top =  Topology.from_molecules(2 * [Molecule.from_smiles('CCO')])"
   ]
  },
  {
   "cell_type": "code",
   "execution_count": 12,
   "metadata": {},
   "outputs": [],
   "source": [
    "# Use a monkey-patched function to parametrize the topology against a force field\n",
    "sys_out = parsley.create_openff_system(top)"
   ]
  },
  {
   "cell_type": "code",
   "execution_count": 13,
   "metadata": {},
   "outputs": [
    {
     "data": {
      "text/plain": [
       "dict_keys(['Bonds', 'Angles', 'ProperTorsions', 'vdW', 'Electrostatics'])"
      ]
     },
     "execution_count": 13,
     "metadata": {},
     "output_type": "execute_result"
    }
   ],
   "source": [
    "# Look at which ParameterHandler objects from the OpenFF toolkit \n",
    "# have been made into Potentialhandler objects\n",
    "sys_out.handlers.keys()"
   ]
  },
  {
   "cell_type": "code",
   "execution_count": 14,
   "metadata": {},
   "outputs": [],
   "source": [
    "# Store the bond handler to inspect its contents\n",
    "bonds = sys_out.handlers['Bonds']"
   ]
  },
  {
   "cell_type": "code",
   "execution_count": 15,
   "metadata": {},
   "outputs": [
    {
     "data": {
      "text/plain": [
       "('Bonds', '1/2 * k * (r - length) ** 2', {'r'})"
      ]
     },
     "execution_count": 15,
     "metadata": {},
     "output_type": "execute_result"
    }
   ],
   "source": [
    "# Look at some ~metadata\n",
    "bonds.name, bonds.expression, bonds.independent_variables"
   ]
  },
  {
   "cell_type": "code",
   "execution_count": 16,
   "metadata": {},
   "outputs": [
    {
     "data": {
      "text/plain": [
       "{(0, 1): '[#6X4:1]-[#6X4:2]',\n",
       " (0, 3): '[#6X4:1]-[#1:2]',\n",
       " (0, 4): '[#6X4:1]-[#1:2]',\n",
       " (0, 5): '[#6X4:1]-[#1:2]',\n",
       " (1, 2): '[#6:1]-[#8:2]',\n",
       " (1, 6): '[#6X4:1]-[#1:2]',\n",
       " (1, 7): '[#6X4:1]-[#1:2]',\n",
       " (2, 8): '[#8:1]-[#1:2]',\n",
       " (9, 10): '[#6X4:1]-[#6X4:2]',\n",
       " (9, 12): '[#6X4:1]-[#1:2]',\n",
       " (9, 13): '[#6X4:1]-[#1:2]',\n",
       " (9, 14): '[#6X4:1]-[#1:2]',\n",
       " (10, 11): '[#6:1]-[#8:2]',\n",
       " (10, 15): '[#6X4:1]-[#1:2]',\n",
       " (10, 16): '[#6X4:1]-[#1:2]',\n",
       " (11, 17): '[#8:1]-[#1:2]'}"
      ]
     },
     "execution_count": 16,
     "metadata": {},
     "output_type": "execute_result"
    }
   ],
   "source": [
    "# Return a mapping between atom indices and SMIRKS identifiers\n",
    "bonds.slot_map"
   ]
  },
  {
   "cell_type": "code",
   "execution_count": 17,
   "metadata": {},
   "outputs": [
    {
     "data": {
      "text/plain": [
       "{'[#6X4:1]-[#6X4:2]': Potential(parameters={'k': <Quantity(531.137374, 'kilocalorie / angstrom ** 2 / mole')>, 'length': <Quantity(1.5203759, 'angstrom')>}),\n",
       " '[#6X4:1]-[#1:2]': Potential(parameters={'k': <Quantity(758.093177, 'kilocalorie / angstrom ** 2 / mole')>, 'length': <Quantity(1.09288838, 'angstrom')>}),\n",
       " '[#6:1]-[#8:2]': Potential(parameters={'k': <Quantity(669.141517, 'kilocalorie / angstrom ** 2 / mole')>, 'length': <Quantity(1.41428792, 'angstrom')>}),\n",
       " '[#8:1]-[#1:2]': Potential(parameters={'k': <Quantity(1120.58324, 'kilocalorie / angstrom ** 2 / mole')>, 'length': <Quantity(0.970768759, 'angstrom')>})}"
      ]
     },
     "execution_count": 17,
     "metadata": {},
     "output_type": "execute_result"
    }
   ],
   "source": [
    "# Return a mapping between SMIRKS identifiers and Potential objects;\n",
    "# Note the de-duplication, resulting from a many-to-few mapping between\n",
    "# bonds in the topology and unique parameters in the force field\n",
    "vdw.potentials"
   ]
  },
  {
   "cell_type": "code",
   "execution_count": 18,
   "metadata": {},
   "outputs": [
    {
     "data": {
      "text/plain": [
       "Potential(parameters={'k': <Quantity(758.093177, 'kilocalorie / angstrom ** 2 / mole')>, 'length': <Quantity(1.09288838, 'angstrom')>})"
      ]
     },
     "execution_count": 18,
     "metadata": {},
     "output_type": "execute_result"
    }
   ],
   "source": [
    "# Look at this contents of one of the Potential objects\n",
    "bonds.potentials['[#6X4:1]-[#1:2]']"
   ]
  },
  {
   "cell_type": "code",
   "execution_count": 19,
   "metadata": {},
   "outputs": [
    {
     "data": {
      "text/html": [
       "758.0931772913 kilocalorie/(angstrom<sup>2</sup> mole)"
      ],
      "text/latex": [
       "$758.0931772913\\ \\frac{\\mathrm{kilocalorie}}{\\left(\\mathrm{angstrom}^{2} \\cdot \\mathrm{mole}\\right)}$"
      ],
      "text/plain": [
       "758.0931772913 <Unit('kilocalorie / angstrom ** 2 / mole')>"
      ]
     },
     "execution_count": 19,
     "metadata": {},
     "output_type": "execute_result"
    }
   ],
   "source": [
    "# Further, look at the particular value of one of its parameters\n",
    "bonds.potentials['[#6X4:1]-[#1:2]'].parameters['k']"
   ]
  },
  {
   "cell_type": "code",
   "execution_count": 21,
   "metadata": {},
   "outputs": [
    {
     "data": {
      "text/html": [
       "758.0931772913 kilocalorie/(angstrom<sup>2</sup> mole)"
      ],
      "text/latex": [
       "$758.0931772913\\ \\frac{\\mathrm{kilocalorie}}{\\left(\\mathrm{angstrom}^{2} \\cdot \\mathrm{mole}\\right)}$"
      ],
      "text/plain": [
       "758.0931772913 <Unit('kilocalorie / angstrom ** 2 / mole')>"
      ]
     },
     "execution_count": 21,
     "metadata": {},
     "output_type": "execute_result"
    }
   ],
   "source": [
    "# Look up, from the highest-level object, this same data, using the\n",
    "# SMIRKS pattern as a key connecting the topological data to the\n",
    "# parametrized data\n",
    "sys_out.handlers['Bonds'].potentials[\n",
    "    sys_out.handlers['Bonds'].slot_map[(1, 7)]\n",
    "].parameters['k']"
   ]
  }
 ],
 "metadata": {
  "kernelspec": {
   "display_name": "Python 3",
   "language": "python",
   "name": "python3"
  },
  "language_info": {
   "codemirror_mode": {
    "name": "ipython",
    "version": 3
   },
   "file_extension": ".py",
   "mimetype": "text/x-python",
   "name": "python",
   "nbconvert_exporter": "python",
   "pygments_lexer": "ipython3",
   "version": "3.7.9"
  }
 },
 "nbformat": 4,
 "nbformat_minor": 4
}
