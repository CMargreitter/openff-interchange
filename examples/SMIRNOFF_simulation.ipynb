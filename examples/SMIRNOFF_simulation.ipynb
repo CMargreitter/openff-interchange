{
 "cells": [
  {
   "cell_type": "markdown",
   "metadata": {},
   "source": [
    "## Generating a System parametrized with a SMIRNOFF force field\n",
    "\n",
    "This example shows how to generate parameterized `System` object from a SMIRNOFF force field.\n",
    "\n",
    "Note: This example is adopted from a similar example in the Open Force Field toolkit:  a simulation of a System parametrized with a SMIRNOFF force field. See [here](https://github.com/openforcefield/openforcefield/tree/3de67ca96265a3953c008e8e244c380d4aa81f2e/examples/SMIRNOFF_simulation) or a more recent version of the same example."
   ]
  },
  {
   "cell_type": "code",
   "execution_count": 1,
   "metadata": {},
   "outputs": [],
   "source": [
    "from simtk.openmm.app import PDBFile\n",
    "\n",
    "from openforcefield.typing.engines.smirnoff import ForceField\n",
    "from openforcefield.topology import Topology, Molecule\n",
    "from openforcefield.utils import get_data_file_path\n",
    "\n",
    "from system.system import System\n",
    "from system.typing.smirnoff import *\n",
    "\n",
    "# First, grab some reference structures from the toolkit's test suite\n",
    "pdb_file_path = get_data_file_path('systems/test_systems/1_cyclohexane_1_ethanol.pdb')\n",
    "pdbfile = PDBFile(pdb_file_path)\n",
    "\n",
    "ethanol = Molecule.from_smiles('CCO')\n",
    "cyclohexane = Molecule.from_smiles('C1CCCCC1')\n",
    "\n",
    "# Create the Open Force Field Topology from an OpenMM Topology object.\n",
    "omm_topology = pdbfile.topology\n",
    "off_topology = Topology.from_openmm(omm_topology, unique_molecules=[ethanol, cyclohexane])\n",
    "\n",
    "# Load the OpenFF \"Parsley\" force field.\n",
    "forcefield = ForceField('openff-1.0.0.offxml')"
   ]
  },
  {
   "cell_type": "code",
   "execution_count": 2,
   "metadata": {},
   "outputs": [],
   "source": [
    "slot_smirks_map = build_slot_smirks_map(forcefield=forcefield, topology=off_topology)"
   ]
  },
  {
   "cell_type": "code",
   "execution_count": 3,
   "metadata": {},
   "outputs": [
    {
     "data": {
      "text/plain": [
       "{'Bonds': {'[#6X4:1]-[#6X4:2]': ParametrizedAnalyticalPotential(name='b1', smirks='[#6X4:1]-[#6X4:2]', expression='1/2*k*(length-length_0)**2', independent_variables={'length_0'}, parameters={'k': <Quantity(531.137373861, 'kilocalorie / angstrom ** 2 / mole')>, 'length': <Quantity(1.520375903275, 'angstrom')>}),\n",
       "  '[#6:1]-[#8:2]': ParametrizedAnalyticalPotential(name='b14', smirks='[#6:1]-[#8:2]', expression='1/2*k*(length-length_0)**2', independent_variables={'length_0'}, parameters={'k': <Quantity(669.1415170138, 'kilocalorie / angstrom ** 2 / mole')>, 'length': <Quantity(1.414287924481, 'angstrom')>}),\n",
       "  '[#6X4:1]-[#1:2]': ParametrizedAnalyticalPotential(name='b83', smirks='[#6X4:1]-[#1:2]', expression='1/2*k*(length-length_0)**2', independent_variables={'length_0'}, parameters={'k': <Quantity(758.0931772913, 'kilocalorie / angstrom ** 2 / mole')>, 'length': <Quantity(1.092888378383, 'angstrom')>}),\n",
       "  '[#8:1]-[#1:2]': ParametrizedAnalyticalPotential(name='b87', smirks='[#8:1]-[#1:2]', expression='1/2*k*(length-length_0)**2', independent_variables={'length_0'}, parameters={'k': <Quantity(1120.583236119, 'kilocalorie / angstrom ** 2 / mole')>, 'length': <Quantity(0.9707687589944, 'angstrom')>})},\n",
       " 'Angles': {'[*:1]~[#6X4:2]-[*:3]': ParametrizedAnalyticalPotential(name='a1', smirks='[*:1]~[#6X4:2]-[*:3]', expression='1/2*k*(angle-angle_0)**2', independent_variables={'angle_0'}, parameters={'k': <Quantity(101.7373362367, 'kilocalorie / mole / radian ** 2')>, 'angle': <Quantity(107.6607821752, 'degree')>}),\n",
       "  '[#1:1]-[#6X4:2]-[#1:3]': ParametrizedAnalyticalPotential(name='a2', smirks='[#1:1]-[#6X4:2]-[#1:3]', expression='1/2*k*(angle-angle_0)**2', independent_variables={'angle_0'}, parameters={'k': <Quantity(74.28701527177, 'kilocalorie / mole / radian ** 2')>, 'angle': <Quantity(107.5991506326, 'degree')>}),\n",
       "  '[*:1]-[#8:2]-[*:3]': ParametrizedAnalyticalPotential(name='a27', smirks='[*:1]-[#8:2]-[*:3]', expression='1/2*k*(angle-angle_0)**2', independent_variables={'angle_0'}, parameters={'k': <Quantity(112.3648888241, 'kilocalorie / mole / radian ** 2')>, 'angle': <Quantity(110.2517797785, 'degree')>})},\n",
       " 'vdW': {'[#1:1]-[#6X4]': ParametrizedAnalyticalPotential(name='n2', smirks='[#1:1]-[#6X4]', expression='4*epsilon*((sigma/r)**12-(sigma/r)**6)', independent_variables={'r'}, parameters={'sigma': <Quantity(2.649532787749369, 'angstrom')>, 'epsilon': <Quantity(0.0157, 'kilocalorie / mole')>}),\n",
       "  '[#1:1]-[#6X4]-[#7,#8,#9,#16,#17,#35]': ParametrizedAnalyticalPotential(name='n3', smirks='[#1:1]-[#6X4]-[#7,#8,#9,#16,#17,#35]', expression='4*epsilon*((sigma/r)**12-(sigma/r)**6)', independent_variables={'r'}, parameters={'sigma': <Quantity(2.471353044121301, 'angstrom')>, 'epsilon': <Quantity(0.0157, 'kilocalorie / mole')>}),\n",
       "  '[#1:1]-[#8]': ParametrizedAnalyticalPotential(name='n12', smirks='[#1:1]-[#8]', expression='4*epsilon*((sigma/r)**12-(sigma/r)**6)', independent_variables={'r'}, parameters={'sigma': <Quantity(0.5345392308842035, 'angstrom')>, 'epsilon': <Quantity(5.27e-05, 'kilocalorie / mole')>}),\n",
       "  '[#6X4:1]': ParametrizedAnalyticalPotential(name='n16', smirks='[#6X4:1]', expression='4*epsilon*((sigma/r)**12-(sigma/r)**6)', independent_variables={'r'}, parameters={'sigma': <Quantity(3.3996695084235347, 'angstrom')>, 'epsilon': <Quantity(0.1094, 'kilocalorie / mole')>}),\n",
       "  '[#8X2H1+0:1]': ParametrizedAnalyticalPotential(name='n19', smirks='[#8X2H1+0:1]', expression='4*epsilon*((sigma/r)**12-(sigma/r)**6)', independent_variables={'r'}, parameters={'sigma': <Quantity(3.0664733878390478, 'angstrom')>, 'epsilon': <Quantity(0.2104, 'kilocalorie / mole')>})}}"
      ]
     },
     "execution_count": 3,
     "metadata": {},
     "output_type": "execute_result"
    }
   ],
   "source": [
    "build_smirks_potential_map(forcefield=forcefield, smirks_map=slot_smirks_map)"
   ]
  },
  {
   "cell_type": "code",
   "execution_count": 4,
   "metadata": {},
   "outputs": [
    {
     "data": {
      "text/plain": [
       "dict_values(['[#6X4:1]', '[#6X4:1]', '[#6X4:1]', '[#6X4:1]', '[#6X4:1]', '[#6X4:1]', '[#1:1]-[#6X4]', '[#1:1]-[#6X4]', '[#1:1]-[#6X4]', '[#1:1]-[#6X4]', '[#1:1]-[#6X4]', '[#1:1]-[#6X4]', '[#1:1]-[#6X4]', '[#1:1]-[#6X4]', '[#1:1]-[#6X4]', '[#1:1]-[#6X4]', '[#1:1]-[#6X4]', '[#1:1]-[#6X4]', '[#6X4:1]', '[#6X4:1]', '[#8X2H1+0:1]', '[#1:1]-[#6X4]', '[#1:1]-[#6X4]', '[#1:1]-[#6X4]', '[#1:1]-[#6X4]-[#7,#8,#9,#16,#17,#35]', '[#1:1]-[#6X4]-[#7,#8,#9,#16,#17,#35]', '[#1:1]-[#8]'])"
      ]
     },
     "execution_count": 4,
     "metadata": {},
     "output_type": "execute_result"
    }
   ],
   "source": [
    "#smirks_map = build_smirnoff_map(off_topology, forcefield)\n",
    "\n",
    "slot_smirks_map['vdW'].values()"
   ]
  },
  {
   "cell_type": "code",
   "execution_count": 5,
   "metadata": {},
   "outputs": [
    {
     "ename": "SMIRNOFFHandlerNotImplementedError",
     "evalue": "SMIRNOFF parameter not implemented here. Tried to parse ParameterHandler of name C",
     "output_type": "error",
     "traceback": [
      "\u001b[0;31m---------------------------------------------------------------------------\u001b[0m",
      "\u001b[0;31mSMIRNOFFHandlerNotImplementedError\u001b[0m        Traceback (most recent call last)",
      "\u001b[0;32m<ipython-input-5-f2fc184045b3>\u001b[0m in \u001b[0;36m<module>\u001b[0;34m\u001b[0m\n\u001b[1;32m      4\u001b[0m     \u001b[0mforcefield\u001b[0m\u001b[0;34m=\u001b[0m\u001b[0mforcefield\u001b[0m\u001b[0;34m,\u001b[0m\u001b[0;34m\u001b[0m\u001b[0;34m\u001b[0m\u001b[0m\n\u001b[1;32m      5\u001b[0m     \u001b[0mpositions\u001b[0m\u001b[0;34m=\u001b[0m\u001b[0mpdbfile\u001b[0m\u001b[0;34m.\u001b[0m\u001b[0mpositions\u001b[0m\u001b[0;34m,\u001b[0m\u001b[0;34m\u001b[0m\u001b[0;34m\u001b[0m\u001b[0m\n\u001b[0;32m----> 6\u001b[0;31m     \u001b[0mbox\u001b[0m\u001b[0;34m=\u001b[0m\u001b[0momm_topology\u001b[0m\u001b[0;34m.\u001b[0m\u001b[0mgetPeriodicBoxVectors\u001b[0m\u001b[0;34m(\u001b[0m\u001b[0;34m)\u001b[0m\u001b[0;34m,\u001b[0m\u001b[0;34m\u001b[0m\u001b[0;34m\u001b[0m\u001b[0m\n\u001b[0m\u001b[1;32m      7\u001b[0m )\n",
      "\u001b[0;32m~/software/miniconda3/envs/openff-system/lib/python3.7/site-packages/pydantic/main.cpython-37m-darwin.so\u001b[0m in \u001b[0;36mpydantic.main.BaseModel.__init__\u001b[0;34m()\u001b[0m\n",
      "\u001b[0;32m~/software/miniconda3/envs/openff-system/lib/python3.7/site-packages/pydantic/main.cpython-37m-darwin.so\u001b[0m in \u001b[0;36mpydantic.main.validate_model\u001b[0;34m()\u001b[0m\n",
      "\u001b[0;32m~/software/openff-system/system/system.py\u001b[0m in \u001b[0;36mvalidate_forcefield_data\u001b[0;34m(cls, values)\u001b[0m\n\u001b[1;32m     49\u001b[0m             values['term_collection'] = SMIRNOFFTermCollection.from_toolkit_data(\n\u001b[1;32m     50\u001b[0m                 \u001b[0mtoolkit_forcefield\u001b[0m\u001b[0;34m=\u001b[0m\u001b[0mvalues\u001b[0m\u001b[0;34m[\u001b[0m\u001b[0;34m'forcefield'\u001b[0m\u001b[0;34m]\u001b[0m\u001b[0;34m,\u001b[0m\u001b[0;34m\u001b[0m\u001b[0;34m\u001b[0m\u001b[0m\n\u001b[0;32m---> 51\u001b[0;31m                 \u001b[0mtoolkit_topology\u001b[0m\u001b[0;34m=\u001b[0m\u001b[0mvalues\u001b[0m\u001b[0;34m[\u001b[0m\u001b[0;34m'topology'\u001b[0m\u001b[0;34m]\u001b[0m\u001b[0;34m,\u001b[0m\u001b[0;34m\u001b[0m\u001b[0;34m\u001b[0m\u001b[0m\n\u001b[0m\u001b[1;32m     52\u001b[0m             )\n\u001b[1;32m     53\u001b[0m             \u001b[0mvalues\u001b[0m\u001b[0;34m[\u001b[0m\u001b[0;34m'smirks_potential_map'\u001b[0m\u001b[0;34m]\u001b[0m \u001b[0;34m=\u001b[0m \u001b[0mpotential_map_from_terms\u001b[0m\u001b[0;34m(\u001b[0m\u001b[0mvalues\u001b[0m\u001b[0;34m[\u001b[0m\u001b[0;34m'term_collection'\u001b[0m\u001b[0;34m]\u001b[0m\u001b[0;34m)\u001b[0m\u001b[0;34m\u001b[0m\u001b[0;34m\u001b[0m\u001b[0m\n",
      "\u001b[0;32m~/software/openff-system/system/typing/smirnoff.py\u001b[0m in \u001b[0;36mfrom_toolkit_data\u001b[0;34m(cls, toolkit_forcefield, toolkit_topology)\u001b[0m\n\u001b[1;32m    261\u001b[0m         \u001b[0;32mfor\u001b[0m \u001b[0mhandler\u001b[0m \u001b[0;32min\u001b[0m \u001b[0mtoolkit_forcefield\u001b[0m\u001b[0;34m.\u001b[0m\u001b[0m_parameter_handlers\u001b[0m\u001b[0;34m.\u001b[0m\u001b[0mkeys\u001b[0m\u001b[0;34m(\u001b[0m\u001b[0;34m)\u001b[0m\u001b[0;34m:\u001b[0m\u001b[0;34m\u001b[0m\u001b[0;34m\u001b[0m\u001b[0m\n\u001b[1;32m    262\u001b[0m             \u001b[0;32mif\u001b[0m \u001b[0mhandler\u001b[0m \u001b[0;32mnot\u001b[0m \u001b[0;32min\u001b[0m \u001b[0mSUPPORTED_HANDLERS\u001b[0m\u001b[0;34m:\u001b[0m\u001b[0;34m\u001b[0m\u001b[0;34m\u001b[0m\u001b[0m\n\u001b[0;32m--> 263\u001b[0;31m                 \u001b[0;32mraise\u001b[0m \u001b[0mSMIRNOFFHandlerNotImplementedError\u001b[0m\u001b[0;34m(\u001b[0m\u001b[0mhandler\u001b[0m\u001b[0;34m)\u001b[0m\u001b[0;34m\u001b[0m\u001b[0;34m\u001b[0m\u001b[0m\n\u001b[0m\u001b[1;32m    264\u001b[0m             \u001b[0;32mif\u001b[0m \u001b[0mhandler\u001b[0m \u001b[0;32mnot\u001b[0m \u001b[0;32min\u001b[0m \u001b[0mpotential_term_mapping\u001b[0m\u001b[0;34m.\u001b[0m\u001b[0mkeys\u001b[0m\u001b[0;34m(\u001b[0m\u001b[0;34m)\u001b[0m\u001b[0;34m:\u001b[0m\u001b[0;34m\u001b[0m\u001b[0;34m\u001b[0m\u001b[0m\n\u001b[1;32m    265\u001b[0m                 \u001b[0;32mraise\u001b[0m \u001b[0mSMIRNOFFHandlerNotImplementedError\u001b[0m\u001b[0;34m(\u001b[0m\u001b[0mhandler\u001b[0m\u001b[0;34m)\u001b[0m\u001b[0;34m\u001b[0m\u001b[0;34m\u001b[0m\u001b[0m\n",
      "\u001b[0;31mSMIRNOFFHandlerNotImplementedError\u001b[0m: SMIRNOFF parameter not implemented here. Tried to parse ParameterHandler of name C"
     ]
    }
   ],
   "source": [
    "# Parametrize the topology and create an OpenFF System.\n",
    "system = System(\n",
    "    topology=off_topology,\n",
    "    forcefield=forcefield,\n",
    "    positions=pdbfile.positions,\n",
    "    box=omm_topology.getPeriodicBoxVectors(),\n",
    ")"
   ]
  },
  {
   "cell_type": "markdown",
   "metadata": {},
   "source": [
    "\n",
    "### Run a simulation\n",
    "\n",
    "We can now use the `System` object to run molecular dynamics trajectories with OpenMM."
   ]
  },
  {
   "cell_type": "code",
   "execution_count": null,
   "metadata": {},
   "outputs": [],
   "source": [
    "from simtk import openmm, unit\n",
    "\n",
    "# Propagate the System with Langevin dynamics.\n",
    "time_step = 2*unit.femtoseconds  # simulation timestep\n",
    "temperature = 300*unit.kelvin  # simulation temperature\n",
    "friction = 1/unit.picosecond  # collision rate\n",
    "integrator = openmm.LangevinIntegrator(temperature, friction, time_step)\n",
    "\n",
    "# Length of the simulation.\n",
    "num_steps = 1000  # number of integration steps to run\n",
    "\n",
    "# Logging options.\n",
    "trj_freq = 1  # number of steps per written trajectory frame\n",
    "data_freq = 1  # number of steps per written simulation statistics\n",
    "\n",
    "# Set up an OpenMM simulation.\n",
    "simulation = openmm.app.Simulation(omm_topology, system, integrator)\n",
    "\n",
    "# Set the initial positions.\n",
    "positions = pdbfile.getPositions() \n",
    "simulation.context.setPositions(positions)\n",
    "\n",
    "# Randomize the velocities from a Boltzmann distribution at a given temperature.\n",
    "simulation.context.setVelocitiesToTemperature(temperature)\n",
    "\n",
    "# Configure the information in the output files.\n",
    "pdb_reporter = openmm.app.PDBReporter('trajectory.pdb', trj_freq)\n",
    "state_data_reporter = openmm.app.StateDataReporter('data.csv', data_freq, step=True,\n",
    "                                                   potentialEnergy=True, temperature=True,\n",
    "                                                   density=True)\n",
    "simulation.reporters.append(pdb_reporter)\n",
    "simulation.reporters.append(state_data_reporter)"
   ]
  },
  {
   "cell_type": "code",
   "execution_count": null,
   "metadata": {},
   "outputs": [],
   "source": [
    "import time\n",
    "\n",
    "print(\"Starting simulation\")\n",
    "start = time.process_time()\n",
    "\n",
    "# Run the simulation\n",
    "simulation.step(num_steps)\n",
    "\n",
    "end = time.process_time()\n",
    "print(\"Elapsed time %.2f seconds\" % (end-start))\n",
    "print(\"Done!\")"
   ]
  },
  {
   "cell_type": "markdown",
   "metadata": {},
   "source": [
    "If successful, the directory where your jupyter notebook is running should contain a `trajectory.pdb` file that you can visualize and a `data.csv` file including potential energy, density, and temperature of each frame."
   ]
  }
 ],
 "metadata": {
  "kernelspec": {
   "display_name": "Python 3",
   "language": "python",
   "name": "python3"
  },
  "language_info": {
   "codemirror_mode": {
    "name": "ipython",
    "version": 3
   },
   "file_extension": ".py",
   "mimetype": "text/x-python",
   "name": "python",
   "nbconvert_exporter": "python",
   "pygments_lexer": "ipython3",
   "version": "3.7.6"
  }
 },
 "nbformat": 4,
 "nbformat_minor": 2
}
