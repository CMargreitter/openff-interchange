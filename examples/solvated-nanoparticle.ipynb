{
 "cells": [
  {
   "cell_type": "code",
   "execution_count": 1,
   "id": "7c15df9e",
   "metadata": {},
   "outputs": [
    {
     "name": "stderr",
     "output_type": "stream",
     "text": [
      "Warning: importing 'simtk.openmm' is deprecated.  Import 'openmm' instead.\n"
     ]
    }
   ],
   "source": [
    "import mbuild as mb\n",
    "import mdtraj as md\n",
    "import numpy as np\n",
    "from foyer.forcefield import Forcefield\n",
    "from openff.toolkit.typing.engines.smirnoff.forcefield import ForceField\n",
    "\n",
    "from openff.interchange.components.foyer import TopologyGraph\n",
    "from openff.interchange.components.interchange import Interchange\n",
    "from openff.interchange.components.mdtraj import _OFFBioTop"
   ]
  },
  {
   "cell_type": "code",
   "execution_count": 2,
   "id": "d80b16a1",
   "metadata": {},
   "outputs": [],
   "source": [
    "nanoparticle = mb.load(\"silica_nanoparticle.json\")"
   ]
  },
  {
   "cell_type": "code",
   "execution_count": 3,
   "id": "271d536f",
   "metadata": {},
   "outputs": [
    {
     "name": "stderr",
     "output_type": "stream",
     "text": [
      "/Users/mwt/miniconda3/envs/interchange/lib/python3.7/site-packages/foyer/forcefield.py:658: UserWarning: Non-atomistic element type detected. Creating custom element for _EP\n",
      "  \"Creating custom element for {}\".format(element)\n",
      "/Users/mwt/miniconda3/envs/interchange/lib/python3.7/site-packages/foyer/forcefield.py:621: UserWarning: No force field version number found in force field XML file.\n",
      "  \"No force field version number found in force field XML file.\"\n",
      "/Users/mwt/miniconda3/envs/interchange/lib/python3.7/site-packages/foyer/forcefield.py:633: UserWarning: No force field name found in force field XML file.\n",
      "  \"No force field name found in force field XML file.\"\n",
      "/Users/mwt/miniconda3/envs/interchange/lib/python3.7/site-packages/foyer/forcefield.py:645: UserWarning: No combining rule found in force field XML file.\n",
      "  \"No combining rule found in force field XML file.\"\n",
      "/Users/mwt/miniconda3/envs/interchange/lib/python3.7/site-packages/foyer/validator.py:165: ValidationWarning: You have empty smart definition(s)\n",
      "  warn(\"You have empty smart definition(s)\", ValidationWarning)\n"
     ]
    }
   ],
   "source": [
    "oplsaa_silica = Forcefield(\"oplsaa_switchable.xml\")"
   ]
  },
  {
   "cell_type": "code",
   "execution_count": 4,
   "id": "8ff99f0f",
   "metadata": {},
   "outputs": [],
   "source": [
    "import mdtraj as md\n",
    "from openff.toolkit.typing.engines.smirnoff.forcefield import ForceField\n",
    "\n",
    "from openff.interchange.components.foyer import TopologyGraph\n",
    "from openff.interchange.components.interchange import Interchange\n",
    "from openff.interchange.components.mdtraj import _OFFBioTop"
   ]
  },
  {
   "cell_type": "code",
   "execution_count": 5,
   "id": "0c6b86b4",
   "metadata": {},
   "outputs": [],
   "source": [
    "topology = _OFFBioTop()\n",
    "topology.mdtop = md.Topology.from_openmm(nanoparticle.to_parmed().topology)"
   ]
  },
  {
   "cell_type": "code",
   "execution_count": 6,
   "id": "8ed54033",
   "metadata": {},
   "outputs": [],
   "source": [
    "nanoparticle_interchange = Interchange.from_foyer(\n",
    "    topology=topology,\n",
    "    force_field=oplsaa_silica,\n",
    ")"
   ]
  },
  {
   "cell_type": "code",
   "execution_count": 7,
   "id": "3f5d6448",
   "metadata": {},
   "outputs": [],
   "source": [
    "nanoparticle_interchange.positions = nanoparticle.xyz"
   ]
  },
  {
   "cell_type": "code",
   "execution_count": 8,
   "id": "96d4fc0e",
   "metadata": {},
   "outputs": [],
   "source": [
    "from openff.toolkit.topology import Molecule"
   ]
  },
  {
   "cell_type": "code",
   "execution_count": 9,
   "id": "a927de8a",
   "metadata": {},
   "outputs": [],
   "source": [
    "molecule = Molecule.from_iupac(\"aspirin\")\n",
    "molecule.generate_conformers(n_conformers=1)"
   ]
  },
  {
   "cell_type": "code",
   "execution_count": 10,
   "id": "b5ee185c",
   "metadata": {},
   "outputs": [],
   "source": [
    "sage = ForceField(\"openff_unconstrained-2.0.0.offxml\")"
   ]
  },
  {
   "cell_type": "code",
   "execution_count": 11,
   "id": "1ba9dec8",
   "metadata": {
    "scrolled": true
   },
   "outputs": [],
   "source": [
    "aspirin_interchange = Interchange.from_smirnoff(sage, molecule.to_topology())"
   ]
  },
  {
   "cell_type": "code",
   "execution_count": 12,
   "id": "cb10080b",
   "metadata": {},
   "outputs": [],
   "source": [
    "from openff.units import unit\n",
    "from openmm import unit as openmm_unit"
   ]
  },
  {
   "cell_type": "code",
   "execution_count": 13,
   "id": "842eaca6",
   "metadata": {},
   "outputs": [],
   "source": [
    "aspirin_interchange.positions = molecule.conformers[0] + 5 * openmm_unit.nanometer"
   ]
  },
  {
   "cell_type": "code",
   "execution_count": 14,
   "id": "5973b0d2",
   "metadata": {
    "scrolled": true
   },
   "outputs": [
    {
     "name": "stderr",
     "output_type": "stream",
     "text": [
      "/Users/mwt/software/openff-system/openff/interchange/components/interchange.py:582: UserWarning: Interchange object combination is experimental and likely to produce strange results. Any workflow using this method is not guaranteed to be suitable for production. Use with extreme caution and thoroughly validate results!\n",
      "  \"Interchange object combination is experimental and likely to produce \"\n",
      "/Users/mwt/software/openff-system/openff/interchange/components/interchange.py:614: UserWarning: 'other' Interchange object has handler with name RBTorsions not found in 'self,' but it has now been added.\n",
      "  f\"'other' Interchange object has handler with name {handler_name} not \"\n",
      "/Users/mwt/software/openff-system/openff/interchange/components/interchange.py:614: UserWarning: 'other' Interchange object has handler with name RBImpropers not found in 'self,' but it has now been added.\n",
      "  f\"'other' Interchange object has handler with name {handler_name} not \"\n"
     ]
    }
   ],
   "source": [
    "combined = aspirin_interchange + nanoparticle_interchange"
   ]
  },
  {
   "cell_type": "code",
   "execution_count": 15,
   "id": "d702c9bf",
   "metadata": {},
   "outputs": [],
   "source": [
    "from openff.interchange.drivers.gromacs import get_gromacs_energies"
   ]
  },
  {
   "cell_type": "code",
   "execution_count": 16,
   "id": "67239163",
   "metadata": {},
   "outputs": [
    {
     "data": {
      "text/plain": [
       "EnergyReport(energies={'Bond': <Quantity(24921.6367, 'kilojoule / mole')>, 'Angle': <Quantity(35966.5195, 'kilojoule / mole')>, 'Torsion': <Quantity(43.0900764, 'kilojoule / mole')>, 'vdW': <Quantity(6417.12457, 'kilojoule / mole')>, 'Electrostatics': <Quantity(-272787.339, 'kilojoule / mole')>})"
      ]
     },
     "execution_count": 16,
     "metadata": {},
     "output_type": "execute_result"
    }
   ],
   "source": [
    "get_gromacs_energies(combined)"
   ]
  }
 ],
 "metadata": {
  "kernelspec": {
   "display_name": "Python 3 (ipykernel)",
   "language": "python",
   "name": "python3"
  },
  "language_info": {
   "codemirror_mode": {
    "name": "ipython",
    "version": 3
   },
   "file_extension": ".py",
   "mimetype": "text/x-python",
   "name": "python",
   "nbconvert_exporter": "python",
   "pygments_lexer": "ipython3",
   "version": "3.7.12"
  }
 },
 "nbformat": 4,
 "nbformat_minor": 5
}
